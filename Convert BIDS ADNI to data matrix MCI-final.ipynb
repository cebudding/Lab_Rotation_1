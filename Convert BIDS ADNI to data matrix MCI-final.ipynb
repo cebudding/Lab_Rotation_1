{
 "cells": [
  {
   "cell_type": "code",
   "execution_count": 1,
   "metadata": {},
   "outputs": [],
   "source": [
    "import os\n",
    "import sys\n",
    "import matplotlib.pyplot as plt\n",
    "import numpy as np\n",
    "import pandas as pd\n",
    "\n",
    "import nibabel as nib\n",
    "from sklearn.model_selection import train_test_split\n",
    "from scipy.ndimage.interpolation import zoom\n",
    "from tabulate import tabulate\n",
    "\n",
    "sys.path.insert(0,\"/analysis/ritter/AD/Budding_Spectral_Analysis/code/nitorch/\")\n",
    "from nitorch.data import load_nifti"
   ]
  },
  {
   "cell_type": "code",
   "execution_count": 2,
   "metadata": {},
   "outputs": [],
   "source": [
    "working_dir = \"/analysis/ritter/data/ADNI/ADNI_BIDS_skull_stripped\"\n",
    "## This project does not use downsized images \n",
    "z_factor = 0.525"
   ]
  },
  {
   "cell_type": "code",
   "execution_count": 3,
   "metadata": {},
   "outputs": [],
   "source": [
    "data_MCI = pd.read_csv('/analysis/ritter/projects/AD/Budding_Spectral_Analysis/data/ADNI_mci_total.csv', delimiter = ',')\n",
    "data_MCI_conv = pd.read_csv('/analysis/ritter/projects/AD/Budding_Spectral_Analysis/data/ADNI_mci_conv.csv', delimiter = ',')"
   ]
  },
  {
   "cell_type": "code",
   "execution_count": 4,
   "metadata": {},
   "outputs": [],
   "source": [
    "data_MCI_conv.head()"
   ]
  },
  {
   "cell_type": "code",
   "execution_count": 5,
   "metadata": {},
   "outputs": [
    {
     "data": {
      "text/html": [
       "<div>\n",
       "<style scoped>\n",
       "    .dataframe tbody tr th:only-of-type {\n",
       "        vertical-align: middle;\n",
       "    }\n",
       "\n",
       "    .dataframe tbody tr th {\n",
       "        vertical-align: top;\n",
       "    }\n",
       "\n",
       "    .dataframe thead th {\n",
       "        text-align: right;\n",
       "    }\n",
       "</style>\n",
       "<table border=\"1\" class=\"dataframe\">\n",
       "  <thead>\n",
       "    <tr style=\"text-align: right;\">\n",
       "      <th></th>\n",
       "      <th>SubjectID</th>\n",
       "      <th>Phase</th>\n",
       "      <th>Sex</th>\n",
       "      <th>Weight</th>\n",
       "      <th>Research Group</th>\n",
       "      <th>Visit</th>\n",
       "      <th>Archive Date</th>\n",
       "      <th>Study Date</th>\n",
       "      <th>Age</th>\n",
       "      <th>MMSE Total Score</th>\n",
       "      <th>...</th>\n",
       "      <th>FAQ Total Score</th>\n",
       "      <th>NPI-Q Total Score</th>\n",
       "      <th>Preprocessing</th>\n",
       "      <th>Image ID</th>\n",
       "      <th>session</th>\n",
       "      <th>path</th>\n",
       "      <th>TOTAL11</th>\n",
       "      <th>TOTALMOD</th>\n",
       "      <th>DXCONV</th>\n",
       "      <th>Conversion</th>\n",
       "    </tr>\n",
       "  </thead>\n",
       "  <tbody>\n",
       "    <tr>\n",
       "      <th>0</th>\n",
       "      <td>068_S_0401</td>\n",
       "      <td>ADNI 1</td>\n",
       "      <td>M</td>\n",
       "      <td>112.9</td>\n",
       "      <td>MCI</td>\n",
       "      <td>ADNI Screening</td>\n",
       "      <td>4/02/2009</td>\n",
       "      <td>4/25/2006</td>\n",
       "      <td>64.0</td>\n",
       "      <td>24.0</td>\n",
       "      <td>...</td>\n",
       "      <td>NaN</td>\n",
       "      <td>NaN</td>\n",
       "      <td>N3 +  Scaled</td>\n",
       "      <td>140333</td>\n",
       "      <td>screen</td>\n",
       "      <td>068_S_0401/screen/anat/sub-068_S_0401_ses-scre...</td>\n",
       "      <td>7.67</td>\n",
       "      <td>11.67</td>\n",
       "      <td>0.0</td>\n",
       "      <td>0</td>\n",
       "    </tr>\n",
       "    <tr>\n",
       "      <th>1</th>\n",
       "      <td>123_S_1300</td>\n",
       "      <td>ADNI 1</td>\n",
       "      <td>F</td>\n",
       "      <td>48.1</td>\n",
       "      <td>MCI</td>\n",
       "      <td>ADNI1/GO Month 12</td>\n",
       "      <td>4/10/2008</td>\n",
       "      <td>3/26/2008</td>\n",
       "      <td>74.6</td>\n",
       "      <td>27.0</td>\n",
       "      <td>...</td>\n",
       "      <td>0.0</td>\n",
       "      <td>2.0</td>\n",
       "      <td>N3 +  Scaled</td>\n",
       "      <td>102132</td>\n",
       "      <td>month12</td>\n",
       "      <td>123_S_1300/month12/anat/sub-123_S_1300_ses-mon...</td>\n",
       "      <td>5.67</td>\n",
       "      <td>6.67</td>\n",
       "      <td>0.0</td>\n",
       "      <td>0</td>\n",
       "    </tr>\n",
       "    <tr>\n",
       "      <th>2</th>\n",
       "      <td>100_S_0296</td>\n",
       "      <td>ADNI 1</td>\n",
       "      <td>M</td>\n",
       "      <td>70.4</td>\n",
       "      <td>MCI</td>\n",
       "      <td>ADNI Screening</td>\n",
       "      <td>12/13/2006</td>\n",
       "      <td>4/03/2006</td>\n",
       "      <td>79.3</td>\n",
       "      <td>26.0</td>\n",
       "      <td>...</td>\n",
       "      <td>NaN</td>\n",
       "      <td>NaN</td>\n",
       "      <td>N3 +  Scaled</td>\n",
       "      <td>33121</td>\n",
       "      <td>screen</td>\n",
       "      <td>100_S_0296/screen/anat/sub-100_S_0296_ses-scre...</td>\n",
       "      <td>15.00</td>\n",
       "      <td>24.00</td>\n",
       "      <td>0.0</td>\n",
       "      <td>0</td>\n",
       "    </tr>\n",
       "    <tr>\n",
       "      <th>3</th>\n",
       "      <td>018_S_0142</td>\n",
       "      <td>ADNI 1</td>\n",
       "      <td>M</td>\n",
       "      <td>72.6</td>\n",
       "      <td>MCI</td>\n",
       "      <td>ADNI1/GO Month 24</td>\n",
       "      <td>3/20/2008</td>\n",
       "      <td>3/03/2008</td>\n",
       "      <td>81.4</td>\n",
       "      <td>30.0</td>\n",
       "      <td>...</td>\n",
       "      <td>0.0</td>\n",
       "      <td>0.0</td>\n",
       "      <td>N3 +  Scaled</td>\n",
       "      <td>99058</td>\n",
       "      <td>month24</td>\n",
       "      <td>018_S_0142/month24/anat/sub-018_S_0142_ses-mon...</td>\n",
       "      <td>7.33</td>\n",
       "      <td>13.33</td>\n",
       "      <td>0.0</td>\n",
       "      <td>0</td>\n",
       "    </tr>\n",
       "    <tr>\n",
       "      <th>4</th>\n",
       "      <td>068_S_0478</td>\n",
       "      <td>ADNI 1</td>\n",
       "      <td>M</td>\n",
       "      <td>80.6</td>\n",
       "      <td>MCI</td>\n",
       "      <td>ADNI Screening</td>\n",
       "      <td>12/12/2008</td>\n",
       "      <td>5/16/2006</td>\n",
       "      <td>56.2</td>\n",
       "      <td>29.0</td>\n",
       "      <td>...</td>\n",
       "      <td>NaN</td>\n",
       "      <td>NaN</td>\n",
       "      <td>N3 +  Scaled_2</td>\n",
       "      <td>130209</td>\n",
       "      <td>screen</td>\n",
       "      <td>068_S_0478/screen/anat/sub-068_S_0478_ses-scre...</td>\n",
       "      <td>4.67</td>\n",
       "      <td>7.67</td>\n",
       "      <td>0.0</td>\n",
       "      <td>0</td>\n",
       "    </tr>\n",
       "  </tbody>\n",
       "</table>\n",
       "<p>5 rows × 22 columns</p>\n",
       "</div>"
      ],
      "text/plain": [
       "    SubjectID   Phase Sex  Weight Research Group              Visit  \\\n",
       "0  068_S_0401  ADNI 1   M   112.9            MCI     ADNI Screening   \n",
       "1  123_S_1300  ADNI 1   F    48.1            MCI  ADNI1/GO Month 12   \n",
       "2  100_S_0296  ADNI 1   M    70.4            MCI     ADNI Screening   \n",
       "3  018_S_0142  ADNI 1   M    72.6            MCI  ADNI1/GO Month 24   \n",
       "4  068_S_0478  ADNI 1   M    80.6            MCI     ADNI Screening   \n",
       "\n",
       "  Archive Date Study Date   Age  MMSE Total Score  ...  FAQ Total Score  \\\n",
       "0    4/02/2009  4/25/2006  64.0              24.0  ...              NaN   \n",
       "1    4/10/2008  3/26/2008  74.6              27.0  ...              0.0   \n",
       "2   12/13/2006  4/03/2006  79.3              26.0  ...              NaN   \n",
       "3    3/20/2008  3/03/2008  81.4              30.0  ...              0.0   \n",
       "4   12/12/2008  5/16/2006  56.2              29.0  ...              NaN   \n",
       "\n",
       "   NPI-Q Total Score     Preprocessing  Image ID  session  \\\n",
       "0                NaN     N3 +  Scaled     140333   screen   \n",
       "1                2.0     N3 +  Scaled     102132  month12   \n",
       "2                NaN     N3 +  Scaled      33121   screen   \n",
       "3                0.0     N3 +  Scaled      99058  month24   \n",
       "4                NaN   N3 +  Scaled_2     130209   screen   \n",
       "\n",
       "                                                path TOTAL11 TOTALMOD  DXCONV  \\\n",
       "0  068_S_0401/screen/anat/sub-068_S_0401_ses-scre...    7.67    11.67     0.0   \n",
       "1  123_S_1300/month12/anat/sub-123_S_1300_ses-mon...    5.67     6.67     0.0   \n",
       "2  100_S_0296/screen/anat/sub-100_S_0296_ses-scre...   15.00    24.00     0.0   \n",
       "3  018_S_0142/month24/anat/sub-018_S_0142_ses-mon...    7.33    13.33     0.0   \n",
       "4  068_S_0478/screen/anat/sub-068_S_0478_ses-scre...    4.67     7.67     0.0   \n",
       "\n",
       "   Conversion  \n",
       "0           0  \n",
       "1           0  \n",
       "2           0  \n",
       "3           0  \n",
       "4           0  \n",
       "\n",
       "[5 rows x 22 columns]"
      ]
     },
     "execution_count": 5,
     "metadata": {},
     "output_type": "execute_result"
    }
   ],
   "source": [
    "data_MCI.head()"
   ]
  },
  {
   "cell_type": "code",
   "execution_count": 11,
   "metadata": {},
   "outputs": [],
   "source": [
    "# load images in matrix\n",
    "def create_dataset(dataset, to_zoom = None, z_factor = 1, mask=None):\n",
    "    data_matrix = [] \n",
    "    labels = [] \n",
    "    for idx, row in dataset.iterrows():\n",
    "        path = os.path.join(working_dir, row[\"path\"])\n",
    "        struct_arr = np.NAN\n",
    "        #try:\n",
    "        scan = nib.load(path)\n",
    "        struct_arr = scan.get_data().astype(np.float32)\n",
    "        if mask is not None:\n",
    "            struct_arr *= mask\n",
    "        if to_zoom is not None:\n",
    "            struct_arr = zoom(struct_arr, z_factor)\n",
    "        data_matrix.append(struct_arr)\n",
    "        labels.append((row[\"Conversion\"] == 1) *1)\n",
    "#         else: \n",
    "#             labels.append((row[\"Research Group\"] == \"MCI\") *-1)\n",
    "        \n",
    "#         what to do with labelling MCI? not training on this so doesn't need specific label? \n",
    "#         labels.append((row[\"Research Group\"] == \"MCI\") *2)\n",
    "        #except:\n",
    "        #    print(\"Couldnt find file: {}. Skipping\".format(path))           \n",
    "    return np.array(data_matrix), np.array(labels)"
   ]
  },
  {
   "cell_type": "code",
   "execution_count": 13,
   "metadata": {},
   "outputs": [],
   "source": [
    "import time, datetime"
   ]
  },
  {
   "cell_type": "code",
   "execution_count": 17,
   "metadata": {},
   "outputs": [
    {
     "name": "stdout",
     "output_type": "stream",
     "text": [
      "Starting at Thu Sep 26 16:36:38 2019\n",
      "Runtime: 0:05:42.534885\n"
     ]
    }
   ],
   "source": [
    "print(\"Starting at \" + time.ctime())\n",
    "start = time.time()\n",
    "X_mci, y_mci = create_dataset(data_MCI)\n",
    "end = time.time()\n",
    "print(\"Runtime: \" + str(datetime.timedelta(seconds=(end-start))))"
   ]
  },
  {
   "cell_type": "code",
   "execution_count": 18,
   "metadata": {},
   "outputs": [],
   "source": [
    "print(\"Starting at \" + time.ctime())\n",
    "start = time.time()\n",
    "X_mci_conv, y_mci_conv = create_dataset(data_MCI_conv)\n",
    "end = time.time()\n",
    "print(\"Runtime: \" + str(datetime.timedelta(seconds=(end-start))))"
   ]
  },
  {
   "cell_type": "code",
   "execution_count": 19,
   "metadata": {},
   "outputs": [],
   "source": [
    "print(y_mci_conv)"
   ]
  },
  {
   "cell_type": "code",
   "execution_count": 20,
   "metadata": {},
   "outputs": [],
   "source": [
    "fig, axs = plt.subplots(1, 2, figsize = (15, 5))\n",
    "axs[0].imshow(X_mci_conv[0][:,:,60], cmap='gray')\n",
    "axs[1].imshow(X_mci_conv[1][:,:,60], cmap='gray')"
   ]
  },
  {
   "cell_type": "code",
   "execution_count": 21,
   "metadata": {},
   "outputs": [
    {
     "data": {
      "text/plain": [
       "(1220, 182, 218, 182)"
      ]
     },
     "execution_count": 21,
     "metadata": {},
     "output_type": "execute_result"
    }
   ],
   "source": [
    "X_mci.shape"
   ]
  },
  {
   "cell_type": "code",
   "execution_count": 22,
   "metadata": {},
   "outputs": [],
   "source": [
    "X_mci_conv.shape"
   ]
  },
  {
   "cell_type": "code",
   "execution_count": 23,
   "metadata": {},
   "outputs": [],
   "source": [
    "import h5py"
   ]
  },
  {
   "cell_type": "code",
   "execution_count": 27,
   "metadata": {},
   "outputs": [],
   "source": [
    "h5 = h5py.File('/analysis/ritter/projects/AD/Budding_Spectral_Analysis/data/ADNI_mci_all.h5', 'w')\n",
    "h5.create_dataset('X', data=X_mci, compression='gzip', compression_opts=9)\n",
    "h5.create_dataset('y', data=y_mci, compression='gzip', compression_opts=9)\n",
    "h5.close()"
   ]
  },
  {
   "cell_type": "code",
   "execution_count": 28,
   "metadata": {},
   "outputs": [],
   "source": [
    "h5 = h5py.File('/analysis/ritter/projects/AD/Budding_Spectral_Analysis/data/ADNI_mci_all.h5', 'w')\n",
    "h5.create_dataset('X', data=X_mci_conv, compression='gzip', compression_opts=9)\n",
    "h5.create_dataset('y', data=y_mci_conv, compression='gzip', compression_opts=9)\n",
    "h5.close()"
   ]
  },
  {
   "cell_type": "code",
   "execution_count": null,
   "metadata": {},
   "outputs": [],
   "source": []
  },
  {
   "cell_type": "code",
   "execution_count": null,
   "metadata": {},
   "outputs": [],
   "source": []
  }
 ],
 "metadata": {
  "kernelspec": {
   "display_name": "Python 3",
   "language": "python",
   "name": "python3"
  },
  "language_info": {
   "codemirror_mode": {
    "name": "ipython",
    "version": 3
   },
   "file_extension": ".py",
   "mimetype": "text/x-python",
   "name": "python",
   "nbconvert_exporter": "python",
   "pygments_lexer": "ipython3",
   "version": "3.7.3"
  }
 },
 "nbformat": 4,
 "nbformat_minor": 2
}
