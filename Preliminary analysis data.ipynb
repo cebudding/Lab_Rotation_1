{
 "cells": [
  {
   "cell_type": "markdown",
   "metadata": {},
   "source": [
    "# Preliminary Analysis Data ADNI"
   ]
  },
  {
   "cell_type": "code",
   "execution_count": 13,
   "metadata": {},
   "outputs": [],
   "source": [
    "import pandas as pd\n",
    "import numpy as np\n",
    "from sklearn.model_selection import train_test_split\n",
    "from tabulate import tabulate"
   ]
  },
  {
   "cell_type": "code",
   "execution_count": 24,
   "metadata": {},
   "outputs": [],
   "source": [
    "#Load the different datasets to analyse the data, rename columns if necessary \n",
    "data_raw = pd.read_csv('/analysis/ritter/data/ADNI/ADNI_BIDS_skull_stripped/participants.csv', delimiter = ',')\n",
    "participant_data = pd.read_csv('/analysis/ritter/projects/AD/Budding_Spectral_Analysis/data/ROSTER.csv', delimiter = ',')\n",
    "participant_data = participant_data.rename(columns = {'PTID':'SubjectID'})\n",
    "conversion_data = pd.read_csv('/analysis/ritter/projects/AD/Budding_Spectral_Analysis/data/DXSUM_PDXCONV_ADNIALL.csv', delimiter = ',')\n",
    "adas_data = pd.read_csv('/analysis/ritter/projects/AD/Budding_Spectral_Analysis/data/ADASSCORES.csv', delimiter = ',')\n",
    "adas_data = adas_data.rename(columns = {'VISCODE':'session'})\n",
    "\n",
    "failed_preprocessing = pd.read_csv('/analysis/ritter/projects/AD/Budding_Spectral_Analysis/data/failed_preprocessing.csv', delimiter = ',')"
   ]
  },
  {
   "cell_type": "code",
   "execution_count": 25,
   "metadata": {},
   "outputs": [],
   "source": [
    "#Add ADAS data to the general data \n",
    "\n",
    "#Rename adas data timepoints\n",
    "adas_data = adas_data.replace({'bl':'screen', 'm06':'month06', 'm12':'month12', 'm18':'month18','m24':'month24'})\n",
    "\n",
    "#Get subject IDs that are in our data set\n",
    "subject_ID_adas_dupl = pd.merge(participant_data[['RID', 'SubjectID']], adas_data)\n",
    "subject_ID_adas = subject_ID_adas_dupl.drop_duplicates()\n",
    "subject_ID_adas = subject_ID_adas[subject_ID_adas['SubjectID'].isin(data_raw['SubjectID'])]\n",
    "\n",
    "#Merge adni data with original data\n",
    "full_data_adas = pd.merge(data_raw, subject_ID_adas[['SubjectID', 'session', 'TOTAL11', 'TOTALMOD']])\n",
    "full_data_adas = full_data_adas.drop_duplicates()\n",
    "data_raw = full_data_adas"
   ]
  },
  {
   "cell_type": "markdown",
   "metadata": {},
   "source": [
    "## Check for conversion and reversion"
   ]
  },
  {
   "cell_type": "code",
   "execution_count": 26,
   "metadata": {},
   "outputs": [
    {
     "name": "stdout",
     "output_type": "stream",
     "text": [
      "(818,)\n",
      "(3831, 54)\n",
      "(2770, 20)\n",
      "True\n"
     ]
    }
   ],
   "source": [
    "#Select only the ADNI1 data of the conversion table\n",
    "conversion_ADNI1 = conversion_data[conversion_data['Phase'] == 'ADNI1']\n",
    "\n",
    "#Merge participant ID data with conversion table to get subject IDs and remove duplicates\n",
    "subject_ID_conversion_dupl = pd.merge(participant_data[['RID', 'SubjectID']], conversion_ADNI1)\n",
    "print(subject_ID_conversion['SubjectID'].unique().shape)\n",
    "\n",
    "#Select the conversion IDs of subjects in the data set we will use \n",
    "subject_ID_conversion = subject_ID_conversion[subject_ID_conversion['SubjectID'].isin(data_raw['SubjectID'])]\n",
    "print(subject_ID_conversion.shape)\n",
    "print(data_raw.shape)\n",
    "print(subject_ID_conversion['SubjectID'].isin(data_raw['SubjectID']).all())"
   ]
  },
  {
   "cell_type": "code",
   "execution_count": 27,
   "metadata": {},
   "outputs": [
    {
     "name": "stdout",
     "output_type": "stream",
     "text": [
      "(811,)\n",
      "926.0\n",
      "(3614, 22)\n",
      "Excluded scans 844\n",
      "#Participants without converters/reverters: 602\n",
      "#Participants raw data: 811\n",
      "Excluded participants total: 209\n",
      "1948\n"
     ]
    }
   ],
   "source": [
    "# Merge data with conversion data, drop duplicates\n",
    "full_data = pd.merge(data_raw, subject_ID_conversion[['SubjectID', 'RID', 'DXCONV']], on = 'SubjectID', how = \"outer\")\n",
    "full_data = full_data.drop_duplicates()\n",
    "print(full_data['SubjectID'].unique().shape)\n",
    "print(np.sum(full_data['DXCONV']))\n",
    "print(full_data.shape)\n",
    "# export_full_data = full_data.to_csv(r'/analysis/ritter/projects/AD/Budding_Spectral_Analysis/data/' + 'full_data.csv', index = None, header = True)\n",
    "\n",
    "#Select participants that have conversion \n",
    "converters_all_times = full_data[full_data['DXCONV'] != 0.0]\n",
    "data_without_converters = data_raw[~data_raw['SubjectID'].isin(converters_all_times['SubjectID'])]\n",
    "data = data_without_converters\n",
    "\n",
    "#Print relevant information\n",
    "print('Excluded scans', len(converters_all_times['SubjectID']))\n",
    "print('#Participants without converters/reverters:', len(data_without_converters['SubjectID'].unique()))\n",
    "print('#Participants raw data:', len(data_raw['SubjectID'].unique()))\n",
    "print('Excluded participants total:', len(converters_all_times['SubjectID'].unique()))\n",
    "print(len(data))\n",
    "assert converters_all_times['SubjectID'].isin(data_raw['SubjectID']).all()"
   ]
  },
  {
   "cell_type": "code",
   "execution_count": 32,
   "metadata": {},
   "outputs": [],
   "source": [
    "# Make a csv of the converter data \n",
    "data_csv = converters_all_times\n",
    "export_data_csv = data_csv.to_csv(r'/analysis/ritter/projects/AD/Budding_Spectral_Analysis/data/' + 'data_converters_old.csv', index = None, header = True)"
   ]
  },
  {
   "cell_type": "markdown",
   "metadata": {},
   "source": [
    "## Exclude scans with failed preprocessing"
   ]
  },
  {
   "cell_type": "code",
   "execution_count": 6,
   "metadata": {},
   "outputs": [
    {
     "name": "stdout",
     "output_type": "stream",
     "text": [
      "9 have been excluded due to failed preprocessing. Still 1959 scans in the datset.\n"
     ]
    }
   ],
   "source": [
    "# Exclude the failed preprocessing scans \n",
    "data_failures = pd.merge(data, failed_preprocessing, on = ['SubjectID', 'session'], how = \"inner\")\n",
    "data = data[~data['Image ID'].isin(data_failures['Image ID'])]\n",
    "print(len(data_failures), 'have been excluded due to failed preprocessing. Still', len(data), 'scans in the datset.')"
   ]
  },
  {
   "cell_type": "markdown",
   "metadata": {},
   "source": [
    "## Subjects per group and timepoint"
   ]
  },
  {
   "cell_type": "code",
   "execution_count": 7,
   "metadata": {},
   "outputs": [],
   "source": [
    "#Total number of scans per group and excluded scans per group for in dataframe\n",
    "excluded_data = [[len(data_raw[data_raw['Research Group'] == 'AD']), \n",
    "                  len(converters_all_times[converters_all_times['Research Group'] == 'AD']),\n",
    "                 len(converters_all_times[converters_all_times['Research Group'] == 'AD']['SubjectID'].unique())],\n",
    "                 [len(data_raw[data_raw['Research Group'] == 'MCI']), \n",
    "                  len(converters_all_times[converters_all_times['Research Group'] == 'MCI']),\n",
    "                 len(converters_all_times[converters_all_times['Research Group'] == 'MCI']['SubjectID'].unique())],\n",
    "                 [len(data_raw[data_raw['Research Group'] == 'CN']), \n",
    "                  len(converters_all_times[converters_all_times['Research Group'] == 'CN']),\n",
    "                 len(converters_all_times[converters_all_times['Research Group'] == 'CN']['SubjectID'].unique())], \n",
    "                [len(data_raw), len(converters_all_times['SubjectID']),\n",
    "                len(converters_all_times['SubjectID'].unique())]]"
   ]
  },
  {
   "cell_type": "code",
   "execution_count": 8,
   "metadata": {},
   "outputs": [
    {
     "data": {
      "text/html": [
       "<div>\n",
       "<style scoped>\n",
       "    .dataframe tbody tr th:only-of-type {\n",
       "        vertical-align: middle;\n",
       "    }\n",
       "\n",
       "    .dataframe tbody tr th {\n",
       "        vertical-align: top;\n",
       "    }\n",
       "\n",
       "    .dataframe thead th {\n",
       "        text-align: right;\n",
       "    }\n",
       "</style>\n",
       "<table border=\"1\" class=\"dataframe\">\n",
       "  <thead>\n",
       "    <tr style=\"text-align: right;\">\n",
       "      <th></th>\n",
       "      <th>Total Scans</th>\n",
       "      <th>Excluded Scans</th>\n",
       "      <th>Excluded Participants</th>\n",
       "    </tr>\n",
       "  </thead>\n",
       "  <tbody>\n",
       "    <tr>\n",
       "      <th>AD</th>\n",
       "      <td>552</td>\n",
       "      <td>13</td>\n",
       "      <td>3</td>\n",
       "    </tr>\n",
       "    <tr>\n",
       "      <th>MCI</th>\n",
       "      <td>1470</td>\n",
       "      <td>776</td>\n",
       "      <td>190</td>\n",
       "    </tr>\n",
       "    <tr>\n",
       "      <th>CN</th>\n",
       "      <td>782</td>\n",
       "      <td>69</td>\n",
       "      <td>19</td>\n",
       "    </tr>\n",
       "    <tr>\n",
       "      <th>Total</th>\n",
       "      <td>2804</td>\n",
       "      <td>858</td>\n",
       "      <td>212</td>\n",
       "    </tr>\n",
       "  </tbody>\n",
       "</table>\n",
       "</div>"
      ],
      "text/plain": [
       "       Total Scans  Excluded Scans  Excluded Participants\n",
       "AD             552              13                      3\n",
       "MCI           1470             776                    190\n",
       "CN             782              69                     19\n",
       "Total         2804             858                    212"
      ]
     },
     "execution_count": 8,
     "metadata": {},
     "output_type": "execute_result"
    }
   ],
   "source": [
    "#Dataframe with number of excluded scans\n",
    "excluded_scans = pd.DataFrame(excluded_data, columns = ['Total Scans', 'Excluded Scans', 'Excluded Participants'], \n",
    "                              index = ['AD', 'MCI', 'CN', 'Total'])\n",
    "excluded_scans"
   ]
  },
  {
   "cell_type": "code",
   "execution_count": 9,
   "metadata": {},
   "outputs": [],
   "source": [
    "#Masks groups\n",
    "is_ad = data['Research Group']=='AD'\n",
    "is_mci = data['Research Group']=='MCI'\n",
    "is_cn = data['Research Group']=='CN'"
   ]
  },
  {
   "cell_type": "code",
   "execution_count": 10,
   "metadata": {},
   "outputs": [],
   "source": [
    "#Data per group \n",
    "data_AD = data[is_ad]\n",
    "data_MCI = data[is_mci]\n",
    "data_CN = data[is_cn]"
   ]
  },
  {
   "cell_type": "code",
   "execution_count": 11,
   "metadata": {},
   "outputs": [
    {
     "data": {
      "text/html": [
       "<div>\n",
       "<style scoped>\n",
       "    .dataframe tbody tr th:only-of-type {\n",
       "        vertical-align: middle;\n",
       "    }\n",
       "\n",
       "    .dataframe tbody tr th {\n",
       "        vertical-align: top;\n",
       "    }\n",
       "\n",
       "    .dataframe thead th {\n",
       "        text-align: right;\n",
       "    }\n",
       "</style>\n",
       "<table border=\"1\" class=\"dataframe\">\n",
       "  <thead>\n",
       "    <tr style=\"text-align: right;\">\n",
       "      <th></th>\n",
       "      <th>Total</th>\n",
       "      <th>Unique patients</th>\n",
       "    </tr>\n",
       "  </thead>\n",
       "  <tbody>\n",
       "    <tr>\n",
       "      <th>AD</th>\n",
       "      <td>539</td>\n",
       "      <td>185</td>\n",
       "    </tr>\n",
       "    <tr>\n",
       "      <th>MCI</th>\n",
       "      <td>710</td>\n",
       "      <td>211</td>\n",
       "    </tr>\n",
       "    <tr>\n",
       "      <th>CN</th>\n",
       "      <td>710</td>\n",
       "      <td>210</td>\n",
       "    </tr>\n",
       "    <tr>\n",
       "      <th>Total</th>\n",
       "      <td>1959</td>\n",
       "      <td>606</td>\n",
       "    </tr>\n",
       "  </tbody>\n",
       "</table>\n",
       "</div>"
      ],
      "text/plain": [
       "       Total  Unique patients\n",
       "AD       539              185\n",
       "MCI      710              211\n",
       "CN       710              210\n",
       "Total   1959              606"
      ]
     },
     "execution_count": 11,
     "metadata": {},
     "output_type": "execute_result"
    }
   ],
   "source": [
    "#Get number of scans per subject group \n",
    "number_scans = [[len(data_AD), len(pd.unique(data_AD['SubjectID']))], \n",
    "                [len(data_MCI), len(pd.unique(data_MCI['SubjectID']))],\n",
    "                [len(data_CN), len(pd.unique(data_CN['SubjectID']))],\n",
    "                [len(data), len(pd.unique(data['SubjectID']))]]\n",
    "\n",
    "scans_per_group = pd.DataFrame(number_scans, columns=['Total', 'Unique patients'], \n",
    "                               index = ['AD', 'MCI', 'CN', 'Total'])\n",
    "scans_per_group"
   ]
  },
  {
   "cell_type": "code",
   "execution_count": 12,
   "metadata": {},
   "outputs": [],
   "source": [
    "#Data per timepoint and group AD\n",
    "data_AD_screen = data_AD[data_AD['session'] == 'screen']\n",
    "data_AD_month06 = data_AD[data_AD['session'] == 'month06']\n",
    "data_AD_month12 = data_AD[data_AD['session'] == 'month12']\n",
    "data_AD_month18 = data_AD[data_AD['session'] == 'month18']\n",
    "data_AD_month24 = data_AD[data_AD['session'] == 'month24']"
   ]
  },
  {
   "cell_type": "code",
   "execution_count": 13,
   "metadata": {},
   "outputs": [],
   "source": [
    "#Data per timepoint and group MCI\n",
    "data_MCI_screen = data_MCI[data_MCI['session'] == 'screen']\n",
    "data_MCI_month06 = data_MCI[data_MCI['session'] == 'month06']\n",
    "data_MCI_month12 = data_MCI[data_MCI['session'] == 'month12']\n",
    "data_MCI_month18 = data_MCI[data_MCI['session'] == 'month18']\n",
    "data_MCI_month24 = data_MCI[data_MCI['session'] == 'month24']"
   ]
  },
  {
   "cell_type": "code",
   "execution_count": 14,
   "metadata": {},
   "outputs": [],
   "source": [
    "#Data per timepoint and group CN \n",
    "data_CN_screen = data_CN[data_CN['session'] == 'screen']\n",
    "data_CN_month06 = data_CN[data_CN['session'] == 'month06']\n",
    "data_CN_month12 = data_CN[data_CN['session'] == 'month12']\n",
    "data_CN_month18 = data_CN[data_CN['session'] == 'month18']\n",
    "data_CN_month24 = data_CN[data_CN['session'] == 'month24']"
   ]
  },
  {
   "cell_type": "code",
   "execution_count": 15,
   "metadata": {},
   "outputs": [],
   "source": [
    "#Get list for dataframe\n",
    "data_pd = [[len(data_AD_screen), len(data_MCI_screen), len(data_CN_screen)],\n",
    "        [len(data_AD_month06), len(data_MCI_month06), len(data_CN_month06)],\n",
    "        [len(data_AD_month12), len(data_MCI_month12), len(data_CN_month12)],\n",
    "        [len(data_AD_month18), len(data_MCI_month18), len(data_CN_month18)],\n",
    "        [len(data_AD_month24), len(data_MCI_month24), len(data_CN_month24)]]"
   ]
  },
  {
   "cell_type": "code",
   "execution_count": 16,
   "metadata": {},
   "outputs": [
    {
     "data": {
      "text/html": [
       "<div>\n",
       "<style scoped>\n",
       "    .dataframe tbody tr th:only-of-type {\n",
       "        vertical-align: middle;\n",
       "    }\n",
       "\n",
       "    .dataframe tbody tr th {\n",
       "        vertical-align: top;\n",
       "    }\n",
       "\n",
       "    .dataframe thead th {\n",
       "        text-align: right;\n",
       "    }\n",
       "</style>\n",
       "<table border=\"1\" class=\"dataframe\">\n",
       "  <thead>\n",
       "    <tr style=\"text-align: right;\">\n",
       "      <th></th>\n",
       "      <th>AD</th>\n",
       "      <th>MCI</th>\n",
       "      <th>CN</th>\n",
       "    </tr>\n",
       "  </thead>\n",
       "  <tbody>\n",
       "    <tr>\n",
       "      <th>screen</th>\n",
       "      <td>181</td>\n",
       "      <td>208</td>\n",
       "      <td>206</td>\n",
       "    </tr>\n",
       "    <tr>\n",
       "      <th>month06</th>\n",
       "      <td>129</td>\n",
       "      <td>147</td>\n",
       "      <td>177</td>\n",
       "    </tr>\n",
       "    <tr>\n",
       "      <th>month12</th>\n",
       "      <td>131</td>\n",
       "      <td>154</td>\n",
       "      <td>175</td>\n",
       "    </tr>\n",
       "    <tr>\n",
       "      <th>month18</th>\n",
       "      <td>0</td>\n",
       "      <td>95</td>\n",
       "      <td>0</td>\n",
       "    </tr>\n",
       "    <tr>\n",
       "      <th>month24</th>\n",
       "      <td>98</td>\n",
       "      <td>106</td>\n",
       "      <td>152</td>\n",
       "    </tr>\n",
       "  </tbody>\n",
       "</table>\n",
       "</div>"
      ],
      "text/plain": [
       "          AD  MCI   CN\n",
       "screen   181  208  206\n",
       "month06  129  147  177\n",
       "month12  131  154  175\n",
       "month18    0   95    0\n",
       "month24   98  106  152"
      ]
     },
     "execution_count": 16,
     "metadata": {},
     "output_type": "execute_result"
    }
   ],
   "source": [
    "#Create dataframe with number of participants in each group \n",
    "participant_data = pd.DataFrame(data_pd, columns = ['AD', 'MCI', 'CN'], \n",
    "                                index = ['screen', 'month06', 'month12', 'month18', 'month24'])\n",
    "\n",
    "participant_data"
   ]
  },
  {
   "cell_type": "markdown",
   "metadata": {},
   "source": [
    "## Mean and standard deviation of cognitive tests"
   ]
  },
  {
   "cell_type": "code",
   "execution_count": 17,
   "metadata": {},
   "outputs": [],
   "source": [
    "#Get the mean and standard deviation of a variable for a certain subject group\n",
    "def get_mean_sd(subject_group, column):\n",
    "    mean = subject_group[column].mean()\n",
    "    sd = subject_group[column].std()\n",
    "    return mean, sd\n",
    "\n",
    "#Define a list of all subject groups\n",
    "data_all = [data_AD_screen, data_MCI_screen, data_CN_screen,\n",
    "        data_AD_month06, data_MCI_month06, data_CN_month06,\n",
    "        data_AD_month12, data_MCI_month12, data_CN_month12,\n",
    "        data_AD_month18, data_MCI_month18, data_CN_month18,\n",
    "        data_AD_month24, data_MCI_month24, data_CN_month24]"
   ]
  },
  {
   "cell_type": "code",
   "execution_count": 18,
   "metadata": {},
   "outputs": [],
   "source": [
    "#Get a list with mean and standard deviation for all subject groups \n",
    "def get_table_mean(data_all, column):\n",
    "    test = [get_mean_sd(data, column) for data in data_all]\n",
    "    test = np.reshape(test, (5,6))\n",
    "    return test"
   ]
  },
  {
   "cell_type": "code",
   "execution_count": 19,
   "metadata": {},
   "outputs": [],
   "source": [
    "#Define header and indices for table\n",
    "header = pd.MultiIndex.from_product([['AD', 'MCI', 'CN'], ['mean', 'sd']])\n",
    "rows = ['screen', 'month06', 'month12', 'month18', 'month24']\n",
    "\n",
    "#Create tables with scores for all the tests \n",
    "mmse = pd.DataFrame(get_table_mean(data_all, 'MMSE Total Score'), \n",
    "                    columns = header, index = rows)\n",
    "gdscale = pd.DataFrame(get_table_mean(data_all, 'GDSCALE Total Score'), columns = header, index = rows)\n",
    "npi_q = pd.DataFrame(get_table_mean(data_all, 'NPI-Q Total Score'), columns = header, index = rows)\n",
    "cdr = pd.DataFrame(get_table_mean(data_all, 'Global CDR'), columns = header, index = rows)\n",
    "faq = pd.DataFrame(get_table_mean(data_all, 'FAQ Total Score'), columns = header, index = rows)\n",
    "adas11 = pd.DataFrame(get_table_mean(data_all, 'TOTAL11'), columns = header, index = rows)\n",
    "adas13 = pd.DataFrame(get_table_mean(data_all, 'TOTALMOD'), columns = header, index = rows)"
   ]
  },
  {
   "cell_type": "code",
   "execution_count": 20,
   "metadata": {},
   "outputs": [
    {
     "name": "stdout",
     "output_type": "stream",
     "text": [
      "MMSE                 AD                  MCI                   CN          \n",
      "              mean        sd       mean        sd       mean        sd\n",
      "screen   23.226519  2.049001  27.278846  1.790780  29.111650  1.022746\n",
      "month06  22.472868  3.089998  27.129252  2.436234  29.096045  0.969323\n",
      "month12  20.715385  4.578742  27.296053  2.693723  29.155172  1.189575\n",
      "month18        NaN       NaN  27.010526  2.958920        NaN       NaN\n",
      "month24  18.552083  5.879258  27.211538  3.249117  29.211921  1.017246 \n",
      "\n",
      "GDSCALE                AD                 MCI                  CN          \n",
      "             mean        sd      mean        sd      mean        sd\n",
      "screen   1.657459  1.431321  1.615385  1.399156  0.800971  1.101750\n",
      "month06       NaN       NaN       NaN       NaN       NaN       NaN\n",
      "month12  1.811024  1.871814  1.743421  1.806892  0.942529  1.266339\n",
      "month18       NaN       NaN       NaN       NaN       NaN       NaN\n",
      "month24  2.010638  2.091944  1.865385  1.790252  1.105960  1.545541 \n",
      "\n",
      "NPI-Q                AD                 MCI                  CN          \n",
      "             mean        sd      mean        sd      mean        sd\n",
      "screen        NaN       NaN       NaN       NaN       NaN       NaN\n",
      "month06  4.263566  4.004918  1.891156  2.995726  0.451977  1.142768\n",
      "month12  5.457364  5.275248  2.131579  2.782833  0.542857  1.333539\n",
      "month18       NaN       NaN  2.168421  2.998768       NaN       NaN\n",
      "month24  4.989691  4.770777  2.163462  2.939885  0.589404  1.357800 \n",
      "\n",
      "CDR                AD                 MCI                  CN          \n",
      "             mean        sd      mean        sd      mean        sd\n",
      "screen   0.748619  0.250690  0.497596  0.034669  0.000000  0.000000\n",
      "month06  0.872093  0.376451  0.479592  0.115236  0.008475  0.112747\n",
      "month12  0.988462  0.561923  0.486928  0.171561  0.017143  0.184898\n",
      "month18       NaN       NaN  0.473684  0.184050       NaN       NaN\n",
      "month24  1.257732  0.711195  0.485577  0.202613  0.019868  0.172054 \n",
      "\n",
      "FAQ                 AD                 MCI                  CN          \n",
      "              mean        sd      mean        sd      mean        sd\n",
      "screen         NaN       NaN       NaN       NaN       NaN       NaN\n",
      "month06  15.682171  7.180686  3.129252  3.882296  0.141243  0.590978\n",
      "month12  17.829457  6.692024  3.585526  4.337491  0.160000  0.842547\n",
      "month18        NaN       NaN  3.329787  4.326434       NaN       NaN\n",
      "month24  20.762887  6.609295  3.757282  4.604912  0.182432  0.756263 \n",
      "\n",
      "ADAS11                 AD                   MCI                  CN          \n",
      "              mean         sd       mean        sd      mean        sd\n",
      "screen   18.687072   6.537084  10.525769  4.277822  6.135728  2.925001\n",
      "month06  20.405271   7.079737  10.721497  4.280112  5.909605  2.894504\n",
      "month12  23.058702   9.134484  10.415519  5.374567  5.257543  2.826632\n",
      "month18        NaN        NaN  10.434842  5.437328       NaN       NaN\n",
      "month24  26.789796  12.998051  11.399151  5.700624  5.436776  2.613847 \n",
      "\n",
      "ADAS13                 AD                   MCI                  CN          \n",
      "              mean         sd       mean        sd      mean        sd\n",
      "screen   28.228508   9.310466  16.988894  6.191787  9.354175  4.181841\n",
      "month06  29.206279  11.028780  17.267959  6.352620  9.096045  4.348477\n",
      "month12  32.735573  12.262516  17.077857  7.476320  8.276571  4.633738\n",
      "month18        NaN        NaN  16.982211  7.632196       NaN       NaN\n",
      "month24  33.970102  17.427570  18.175849  8.107973  8.693355  4.146271 \n",
      "\n"
     ]
    }
   ],
   "source": [
    "# Print tables with scores \n",
    "print('MMSE', mmse, '\\n')\n",
    "print('GDSCALE', gdscale, '\\n')\n",
    "print('NPI-Q', npi_q, '\\n')\n",
    "print('CDR', cdr,'\\n')\n",
    "print('FAQ', faq, '\\n')\n",
    "print('ADAS11', adas11, '\\n')\n",
    "print('ADAS13', adas13, '\\n')"
   ]
  },
  {
   "cell_type": "markdown",
   "metadata": {},
   "source": [
    "## Division in training and test data"
   ]
  },
  {
   "cell_type": "code",
   "execution_count": 21,
   "metadata": {},
   "outputs": [],
   "source": [
    "#Determine for which participants a scan is available at all four timepoints\n",
    "def scans_all_timepoints(data1, data2, data3, data4, column):\n",
    "    intersection1 = pd.merge(data1[column], data2[column], how = 'inner')\n",
    "    intersection2 = pd.merge(data3[column], intersection1, how = 'inner')\n",
    "    participants_all_timepoints = pd.merge(data4[column], intersection2, how = 'inner')\n",
    "    return participants_all_timepoints"
   ]
  },
  {
   "cell_type": "code",
   "execution_count": 22,
   "metadata": {},
   "outputs": [
    {
     "name": "stdout",
     "output_type": "stream",
     "text": [
      "#scans all timepoints AD: 92\n",
      "#scans all timepoints MCI: 98\n",
      "#scans all timepoints CN: 144\n"
     ]
    }
   ],
   "source": [
    "#Get number of participants with all timepoints for different groups \n",
    "all_timepoints_AD = scans_all_timepoints(data_AD_screen, data_AD_month06, \n",
    "                                         data_AD_month12, data_AD_month24, 'SubjectID')\n",
    "all_timepoints_MCI = scans_all_timepoints(data_MCI_screen, data_MCI_month06, \n",
    "                                         data_MCI_month12, data_MCI_month24, 'SubjectID')\n",
    "all_timepoints_CN = scans_all_timepoints(data_CN_screen, data_CN_month06, \n",
    "                                         data_CN_month12, data_CN_month24, 'SubjectID')\n",
    "\n",
    "print('#scans all timepoints AD:', len(all_timepoints_AD))\n",
    "print('#scans all timepoints MCI:', len(all_timepoints_MCI))\n",
    "print('#scans all timepoints CN:', len(all_timepoints_CN))"
   ]
  },
  {
   "cell_type": "code",
   "execution_count": 23,
   "metadata": {},
   "outputs": [
    {
     "name": "stdout",
     "output_type": "stream",
     "text": [
      "Number of test scans for AD: 18, CN: 28\n"
     ]
    }
   ],
   "source": [
    "#Determine number of test points for all groups (20% of total)\n",
    "test_points_AD = int(0.2* len(all_timepoints_AD))\n",
    "# test_points_MCI = int(0.2 * len(all_timepoints_MCI))\n",
    "test_points_CN = int(0.2 * len(all_timepoints_CN))\n",
    "print('Number of test scans for AD: {}, CN: {}'.format(test_points_AD, test_points_CN))"
   ]
  },
  {
   "cell_type": "code",
   "execution_count": 24,
   "metadata": {},
   "outputs": [],
   "source": [
    "#Set random seed \n",
    "random_state = 43\n",
    "\n",
    "#Randomly select a sample from the subjects\n",
    "sample_AD = all_timepoints_AD.sample(test_points_AD, random_state = random_state)\n",
    "# sample_MCI = all_timepoints_MCI.sample(test_points_MCI)\n",
    "sample_CN = all_timepoints_CN.sample(test_points_CN, random_state = random_state)"
   ]
  },
  {
   "cell_type": "code",
   "execution_count": 25,
   "metadata": {},
   "outputs": [],
   "source": [
    "# print(sample['Subject ID'])\n",
    "selected_AD = data_AD['SubjectID'].isin(sample_AD['SubjectID'])\n",
    "data_AD_holdout = data_AD[selected_AD]\n",
    "data_AD_train = data_AD[~selected_AD]\n",
    "\n",
    "# All MCI data will be used to test on so not necessary to select this\n",
    "# selected_MCI = data_MCI['Subject ID'].isin(sample_MCI['Subject ID'])\n",
    "# data_MCI_test = data_MCI[selected_MCI]\n",
    "# data_MCI_train = data_MCI[~selected_MCI]\n",
    "\n",
    "selected_CN = data_CN['SubjectID'].isin(sample_CN['SubjectID'])\n",
    "data_CN_holdout = data_CN[selected_CN]\n",
    "data_CN_train = data_CN[~selected_CN]"
   ]
  },
  {
   "cell_type": "code",
   "execution_count": 26,
   "metadata": {},
   "outputs": [
    {
     "name": "stdout",
     "output_type": "stream",
     "text": [
      "25 27\n"
     ]
    }
   ],
   "source": [
    "# Get list of subjects for AD and CN (training sets)\n",
    "subjects_AD_train = data_AD_train['SubjectID'].unique()\n",
    "subjects_CN_train = data_CN_train['SubjectID'].unique()\n",
    "\n",
    "val_subjects_AD = int(0.15 * len(subjects_AD_train))\n",
    "val_subjects_CN = int(0.15 * len(subjects_CN_train))\n",
    "print(val_subjects_AD, val_subjects_CN)\n",
    "\n",
    "# Get validation set for AD and CN \n",
    "subjects_AD_train, subjects_AD_val = train_test_split(subjects_AD_train, \n",
    "                                                      test_size=val_subjects_AD, random_state=random_state)\n",
    "subjects_CN_train, subjects_CN_val = train_test_split(subjects_CN_train, \n",
    "                                                      test_size=val_subjects_CN, random_state=random_state)\n",
    "\n",
    "subjects_train = np.concatenate([subjects_AD_train, subjects_CN_train])\n",
    "subjects_val = np.concatenate([subjects_AD_val, subjects_CN_val])"
   ]
  },
  {
   "cell_type": "code",
   "execution_count": 27,
   "metadata": {},
   "outputs": [],
   "source": [
    "# Make dataframe with all scans for the testing set (and testing set + MCI)\n",
    "data_training = data[data.apply(lambda row: row['SubjectID'] in subjects_train, axis=1)]\n",
    "data_val = data[data.apply(lambda row: row['SubjectID'] in subjects_val, axis=1)]\n",
    "data_holdout = pd.concat([data_AD_holdout, data_CN_holdout], ignore_index = True)\n",
    "# data_holdout_all = data[~data['SubjectID'].isin(data_training['SubjectID'])]"
   ]
  },
  {
   "cell_type": "code",
   "execution_count": 28,
   "metadata": {},
   "outputs": [],
   "source": [
    "def print_all_stats(df, df_train, df_test, df_val):\n",
    "    headers = ['Images', '-> AD', '-> MCI', '-> CN', 'Patients', '-> AD', '-> MCI', '-> CN']\n",
    "    \n",
    "    def get_stats(df):\n",
    "        df_ad = df[df['Research Group'] == 'AD']\n",
    "        df_mci = df[df['Research Group'] == 'MCI']\n",
    "        df_cn = df[df['Research Group'] == 'CN']\n",
    "        return [len(df), len(df_ad), len(df_mci), len(df_cn), len(df['SubjectID'].unique()), \n",
    "                len(df_ad['SubjectID'].unique()), len(df_mci['SubjectID'].unique()), len(df_cn['SubjectID'].unique())]\n",
    "        \n",
    "    stats = []\n",
    "    stats.append(['ALL'] + get_stats(df))\n",
    "    stats.append(['Train'] + get_stats(df_train))\n",
    "    stats.append(['Holdout'] + get_stats(df_test))\n",
    "    stats.append(['Val'] + get_stats(df_val))\n",
    "        \n",
    "    print(tabulate(stats, headers = headers))\n",
    "    print()"
   ]
  },
  {
   "cell_type": "code",
   "execution_count": 29,
   "metadata": {},
   "outputs": [
    {
     "name": "stdout",
     "output_type": "stream",
     "text": [
      "           Images    -> AD    -> MCI    -> CN    Patients    -> AD    -> MCI    -> CN\n",
      "-------  --------  -------  --------  -------  ----------  -------  --------  -------\n",
      "ALL          1959      539       710      710         606      185       211      210\n",
      "Train         901      390         0      511         297      142         0      155\n",
      "Holdout       184       72         0      112          46       18         0       28\n",
      "Val           164       77         0       87          52       25         0       27\n",
      "\n"
     ]
    }
   ],
   "source": [
    "print_all_stats(data, data_training, data_holdout, data_val)"
   ]
  },
  {
   "cell_type": "code",
   "execution_count": 30,
   "metadata": {},
   "outputs": [],
   "source": [
    "# Comment out when you want to create a new csv file for the newly selected participants\n",
    "# export_csv_training = data_training.to_csv(r'/analysis/ritter/projects/AD/Budding_Spectral_Analysis/data/' + 'ADNI_training.csv', index = None, header = True)\n",
    "# export_csv_holdout = data_holdout.to_csv(r'/analysis/ritter/projects/AD/Budding_Spectral_Analysis/data/' + 'ADNI_holdout.csv', index = None, header = True)\n",
    "# export_csv_validation = data_val.to_csv(r'/analysis/ritter/projects/AD/Budding_Spectral_Analysis/data/' + 'ADNI_validation.csv', index = None, header = True)\n",
    "# export_csv_testing_all = data_testing_all.to_csv(r'/analysis/ritter/projects/AD/Budding_Spectral_Analysis/data/' + 'ADNI_testing_all.csv', index = None, header = True)"
   ]
  },
  {
   "cell_type": "code",
   "execution_count": null,
   "metadata": {},
   "outputs": [],
   "source": []
  }
 ],
 "metadata": {
  "kernelspec": {
   "display_name": "Python 3",
   "language": "python",
   "name": "python3"
  },
  "language_info": {
   "codemirror_mode": {
    "name": "ipython",
    "version": 3
   },
   "file_extension": ".py",
   "mimetype": "text/x-python",
   "name": "python",
   "nbconvert_exporter": "python",
   "pygments_lexer": "ipython3",
   "version": "3.7.3"
  }
 },
 "nbformat": 4,
 "nbformat_minor": 2
}
