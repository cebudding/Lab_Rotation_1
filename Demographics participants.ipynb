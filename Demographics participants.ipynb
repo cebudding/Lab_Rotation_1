{
 "cells": [
  {
   "cell_type": "code",
   "execution_count": 2,
   "metadata": {},
   "outputs": [],
   "source": [
    "import pandas as pd\n",
    "import numpy as np\n",
    "from sklearn.model_selection import train_test_split\n",
    "from tabulate import tabulate"
   ]
  },
  {
   "cell_type": "code",
   "execution_count": 27,
   "metadata": {},
   "outputs": [
    {
     "name": "stdout",
     "output_type": "stream",
     "text": [
      "0.6611499999999999\n",
      "0.029639542843977868\n"
     ]
    }
   ],
   "source": [
    "# Small tool to calculate accuracies and std\n",
    "accuracies = np.array([0.6107, 0.6700, 0.6784, 0.6855])\n",
    "print(accuracies.mean())\n",
    "print(accuracies.std())"
   ]
  },
  {
   "cell_type": "markdown",
   "metadata": {},
   "source": [
    "# Data Splits Test Set "
   ]
  },
  {
   "cell_type": "code",
   "execution_count": 2,
   "metadata": {},
   "outputs": [],
   "source": [
    "holdout_data = pd.read_csv('/analysis/ritter/projects/AD/Budding_Spectral_Analysis/data/ADNI_holdout.csv', delimiter = ',')"
   ]
  },
  {
   "cell_type": "code",
   "execution_count": 3,
   "metadata": {},
   "outputs": [
    {
     "name": "stdout",
     "output_type": "stream",
     "text": [
      "96\n",
      "88\n",
      "56\n",
      "56\n"
     ]
    }
   ],
   "source": [
    "# Calculate statistics for different tests sets \n",
    "women = holdout_data['Sex'] == 'F'\n",
    "holdout_data_f = holdout_data[women]\n",
    "holdout_data_m = holdout_data[~women]\n",
    "print(len(holdout_data_m))\n",
    "print(len(holdout_data_f))\n",
    "print(len(holdout_data_f[holdout_data_f['Research Group'] == 'CN']))\n",
    "print(len(holdout_data_m[holdout_data_m['Research Group'] == 'CN']))\n",
    "# print(women)"
   ]
  },
  {
   "cell_type": "code",
   "execution_count": 4,
   "metadata": {},
   "outputs": [
    {
     "name": "stdout",
     "output_type": "stream",
     "text": [
      "40\n"
     ]
    }
   ],
   "source": [
    "print(len(holdout_data_m[holdout_data_m['Research Group'] == 'AD']))"
   ]
  },
  {
   "cell_type": "code",
   "execution_count": 5,
   "metadata": {},
   "outputs": [
    {
     "name": "stdout",
     "output_type": "stream",
     "text": [
      "Minimum age is 60.0\n",
      "Maximum age is 89.8\n"
     ]
    }
   ],
   "source": [
    "# calculate age for different subgroups \n",
    "print('Minimum age is', holdout_data['Age'].min())\n",
    "print('Maximum age is', holdout_data['Age'].max())\n",
    "\n",
    "age_60_73 = (holdout_data['Age'] >= 60) &(holdout_data['Age'] < 73)\n",
    "age_73_78 = (holdout_data['Age'] >= 73) &(holdout_data['Age'] < 78)\n",
    "age_78_90 = (holdout_data['Age'] >= 78) &(holdout_data['Age'] < 90)\n",
    "\n",
    "data_60_73 = holdout_data[age_60_73]\n",
    "data_73_78 = holdout_data[age_73_78]\n",
    "data_78_90 = holdout_data[age_78_90]"
   ]
  },
  {
   "cell_type": "code",
   "execution_count": 6,
   "metadata": {},
   "outputs": [
    {
     "name": "stdout",
     "output_type": "stream",
     "text": [
      "25.345454545454544 3.9497687781278294\n",
      "9.232558139534884 9.901508324979307\n",
      "18.18781818181818 12.125511473123453\n"
     ]
    }
   ],
   "source": [
    "# print test scores for different test scores \n",
    "for test in ['MMSE Total Score', 'FAQ Total Score', 'TOTALMOD']: \n",
    "    print(data_78_90[test].mean(), data_78_90[test].std())"
   ]
  },
  {
   "cell_type": "code",
   "execution_count": 7,
   "metadata": {},
   "outputs": [],
   "source": [
    "# Create data files for different subgroups \n",
    "export_csv_w = holdout_data_f.to_csv(r'/analysis/ritter/projects/AD/Budding_Spectral_Analysis/data/holdout_splits/' + 'ADNI_holdout_f.csv', index = None, header = True)\n",
    "export_csv_m = holdout_data_m.to_csv(r'/analysis/ritter/projects/AD/Budding_Spectral_Analysis/data/holdout_splits/' + 'ADNI_holdout_m.csv', index = None, header = True)\n",
    "\n",
    "export_csv_60_73 = data_60_73.to_csv(r'/analysis/ritter/projects/AD/Budding_Spectral_Analysis/data/holdout_splits/' + 'ADNI_holdout_60_73.csv', index = None, header = True)\n",
    "export_csv_73_78 = data_73_78.to_csv(r'/analysis/ritter/projects/AD/Budding_Spectral_Analysis/data/holdout_splits/' + 'ADNI_holdout_73_78.csv', index = None, header = True)\n",
    "export_csv_78_90 = data_78_90.to_csv(r'/analysis/ritter/projects/AD/Budding_Spectral_Analysis/data/holdout_splits/' + 'ADNI_holdout_78_90.csv', index = None, header = True)"
   ]
  },
  {
   "cell_type": "markdown",
   "metadata": {},
   "source": [
    "# AD vs HC"
   ]
  },
  {
   "cell_type": "code",
   "execution_count": 8,
   "metadata": {},
   "outputs": [],
   "source": [
    "# Load all data \n",
    "all_data = pd.read_csv('/analysis/ritter/projects/AD/Budding_Spectral_Analysis/data/ADNI_all.csv', delimiter = ',')"
   ]
  },
  {
   "cell_type": "code",
   "execution_count": 9,
   "metadata": {},
   "outputs": [],
   "source": [
    "# Define AD and HC groups \n",
    "is_AD = all_data['Research Group'] == 'AD'\n",
    "is_HC = all_data['Research Group'] == 'CN'\n",
    "\n",
    "data_AD = all_data[is_AD]\n",
    "data_HC = all_data[is_HC]"
   ]
  },
  {
   "cell_type": "code",
   "execution_count": 10,
   "metadata": {},
   "outputs": [
    {
     "name": "stdout",
     "output_type": "stream",
     "text": [
      "Mean age for AD is 75.90667903525059 and std is 7.469971603270488\n",
      "Mean age for HC is 76.74521126760551 and std is 5.10488561561696\n"
     ]
    }
   ],
   "source": [
    "# Calculate age for each group \n",
    "print('Mean age for AD is', data_AD['Age'].mean(), 'and std is', data_AD['Age'].std())\n",
    "print('Mean age for HC is', data_HC['Age'].mean(), 'and std is', data_HC['Age'].std())"
   ]
  },
  {
   "cell_type": "code",
   "execution_count": 33,
   "metadata": {},
   "outputs": [
    {
     "name": "stdout",
     "output_type": "stream",
     "text": [
      "Number of male for AD is 96 and female 89\n",
      "Number of male for HC is 108 and female 102\n"
     ]
    }
   ],
   "source": [
    "# Print # participants for each group \n",
    "print('Number of male for AD is', len(data_AD[data_AD['Sex'] == 'M']['SubjectID'].unique()), 'and female', len(data_AD[data_AD['Sex'] == 'F']['SubjectID'].unique()))\n",
    "print('Number of male for HC is', len(data_HC[data_HC['Sex'] == 'M']['SubjectID'].unique()), 'and female', len(data_HC[data_HC['Sex'] == 'F']['SubjectID'].unique()))"
   ]
  },
  {
   "cell_type": "code",
   "execution_count": 12,
   "metadata": {},
   "outputs": [],
   "source": [
    "# Compute test scores for each group \n",
    "data_tests = [[data_AD['MMSE Total Score'].mean(), data_AD['MMSE Total Score'].std(), data_HC['MMSE Total Score'].mean(), data_HC['MMSE Total Score'].std()],\n",
    "             [data_AD['FAQ Total Score'].mean(), data_AD['FAQ Total Score'].std(), data_HC['FAQ Total Score'].mean(), data_HC['FAQ Total Score'].std()], \n",
    "             [data_AD['TOTALMOD'].mean(), data_AD['TOTALMOD'].std(), data_HC['TOTALMOD'].mean(), data_HC['TOTALMOD'].std()]]"
   ]
  },
  {
   "cell_type": "code",
   "execution_count": 13,
   "metadata": {},
   "outputs": [
    {
     "data": {
      "text/html": [
       "<div>\n",
       "<style scoped>\n",
       "    .dataframe tbody tr th:only-of-type {\n",
       "        vertical-align: middle;\n",
       "    }\n",
       "\n",
       "    .dataframe tbody tr th {\n",
       "        vertical-align: top;\n",
       "    }\n",
       "\n",
       "    .dataframe thead th {\n",
       "        text-align: right;\n",
       "    }\n",
       "</style>\n",
       "<table border=\"1\" class=\"dataframe\">\n",
       "  <thead>\n",
       "    <tr style=\"text-align: right;\">\n",
       "      <th></th>\n",
       "      <th>AD mean</th>\n",
       "      <th>AD std</th>\n",
       "      <th>HC mean</th>\n",
       "      <th>HC std</th>\n",
       "    </tr>\n",
       "  </thead>\n",
       "  <tbody>\n",
       "    <tr>\n",
       "      <th>MMSE</th>\n",
       "      <td>21.598881</td>\n",
       "      <td>4.222051</td>\n",
       "      <td>29.139831</td>\n",
       "      <td>1.051137</td>\n",
       "    </tr>\n",
       "    <tr>\n",
       "      <th>FAQ</th>\n",
       "      <td>17.850704</td>\n",
       "      <td>7.121839</td>\n",
       "      <td>0.160000</td>\n",
       "      <td>0.734492</td>\n",
       "    </tr>\n",
       "    <tr>\n",
       "      <th>ADAS13</th>\n",
       "      <td>30.601855</td>\n",
       "      <td>12.432740</td>\n",
       "      <td>8.882746</td>\n",
       "      <td>4.342299</td>\n",
       "    </tr>\n",
       "  </tbody>\n",
       "</table>\n",
       "</div>"
      ],
      "text/plain": [
       "          AD mean     AD std    HC mean    HC std\n",
       "MMSE    21.598881   4.222051  29.139831  1.051137\n",
       "FAQ     17.850704   7.121839   0.160000  0.734492\n",
       "ADAS13  30.601855  12.432740   8.882746  4.342299"
      ]
     },
     "execution_count": 13,
     "metadata": {},
     "output_type": "execute_result"
    }
   ],
   "source": [
    "tests = pd.DataFrame(data_tests, columns = ['AD mean', 'AD std', 'HC mean', 'HC std'], index = ['MMSE', 'FAQ', 'ADAS13'])\n",
    "tests"
   ]
  },
  {
   "cell_type": "markdown",
   "metadata": {},
   "source": [
    "# MCI Data"
   ]
  },
  {
   "cell_type": "code",
   "execution_count": 14,
   "metadata": {},
   "outputs": [
    {
     "name": "stdout",
     "output_type": "stream",
     "text": [
      "709\n",
      "542\n"
     ]
    }
   ],
   "source": [
    "# Load MCI data and divide in groups \n",
    "data_mci_conv = pd.read_csv('/analysis/ritter/projects/AD/Budding_Spectral_Analysis/data/data_last_version/ADNI_MCI_only_conv.csv', delimiter = ',')\n",
    "data_mci = pd.read_csv('/analysis/ritter/projects/AD/Budding_Spectral_Analysis/data/data_last_version/ADNI_mci_no_conv.csv', delimiter = ',')\n",
    "data_mci['DXCONV'] = 0\n",
    "data_mci['Conversion'] = 0\n",
    "\n",
    "data_mci_conv = data_mci_conv[data_mci_conv['DXCONV'] != 2.0]\n",
    "data_mci_conv = data_mci_conv.drop(columns = 'Unnamed: 0')\n",
    "data_mci_conv['Conversion'] = 1\n",
    "\n",
    "print(len(data_mci))\n",
    "print(len(data_mci_conv))"
   ]
  },
  {
   "cell_type": "code",
   "execution_count": 15,
   "metadata": {},
   "outputs": [
    {
     "name": "stdout",
     "output_type": "stream",
     "text": [
      "211\n",
      "125\n",
      "1251\n"
     ]
    }
   ],
   "source": [
    "# Print # participants in each separate group \n",
    "print(len(data_mci['SubjectID'].unique()))\n",
    "print(len(data_mci_conv['SubjectID'].unique()))\n",
    "print(len(data_mci) + len(data_mci_conv))"
   ]
  },
  {
   "cell_type": "code",
   "execution_count": 16,
   "metadata": {},
   "outputs": [
    {
     "name": "stdout",
     "output_type": "stream",
     "text": [
      "(542, 22)\n",
      "(709, 22)\n",
      "['SubjectID' 'Phase' 'Sex' 'Weight' 'Research Group' 'Visit'\n",
      " 'Archive Date' 'Study Date' 'Age' 'MMSE Total Score'\n",
      " 'GDSCALE Total Score' 'Global CDR' 'FAQ Total Score' 'NPI-Q Total Score'\n",
      " 'Preprocessing' 'Image ID' 'session' 'path' 'TOTAL11' 'TOTALMOD' 'DXCONV'\n",
      " 'Conversion']\n",
      "['SubjectID' 'Phase' 'Sex' 'Weight' 'Research Group' 'Visit'\n",
      " 'Archive Date' 'Study Date' 'Age' 'MMSE Total Score'\n",
      " 'GDSCALE Total Score' 'Global CDR' 'FAQ Total Score' 'NPI-Q Total Score'\n",
      " 'Preprocessing' 'Image ID' 'session' 'path' 'TOTAL11' 'TOTALMOD' 'DXCONV'\n",
      " 'Conversion']\n"
     ]
    }
   ],
   "source": [
    "# Print sizes subgroups \n",
    "print(data_mci_conv.shape)\n",
    "print(data_mci.shape)"
   ]
  },
  {
   "cell_type": "code",
   "execution_count": 17,
   "metadata": {},
   "outputs": [
    {
     "name": "stdout",
     "output_type": "stream",
     "text": [
      "Total scans converters in dataset 511 parts is 116\n"
     ]
    }
   ],
   "source": [
    "# Determine converters \n",
    "converter_ids = data_mci_conv[data_mci_conv['DXCONV'] == 1]\n",
    "list_ids = list(converter_ids['SubjectID'])\n",
    "converters = data_mci_conv[data_mci_conv.apply(lambda row: row['SubjectID'] in list_ids, axis=1)]\n",
    "print('Total scans converters in dataset', len(converters), 'parts is', len(converters['SubjectID'].unique()))"
   ]
  },
  {
   "cell_type": "code",
   "execution_count": 18,
   "metadata": {},
   "outputs": [
    {
     "name": "stdout",
     "output_type": "stream",
     "text": [
      "511\n",
      "Total number MCI scans: 1220\n",
      "Total patients MCI: 327\n"
     ]
    }
   ],
   "source": [
    "# Create total MCI set\n",
    "total_mci = data_mci.append(converters)\n",
    "print(total_mci['Conversion'].sum())\n",
    "\n",
    "print('Total number MCI scans:', len(total_mci))\n",
    "print('Total patients MCI:', len(total_mci['SubjectID'].unique()))"
   ]
  },
  {
   "cell_type": "code",
   "execution_count": 19,
   "metadata": {},
   "outputs": [],
   "source": [
    "# Export dataset \n",
    "export_csv_mci_no_conv = total_mci.to_csv(r'/analysis/ritter/projects/AD/Budding_Spectral_Analysis/data/' + 'ADNI_mci_total.csv', index = None, header = True)"
   ]
  },
  {
   "cell_type": "code",
   "execution_count": 34,
   "metadata": {},
   "outputs": [
    {
     "name": "stdout",
     "output_type": "stream",
     "text": [
      "Mean age for MCI is 75.74327868852447 and std is 7.207435938090487\n",
      "Number of male for MCI is 211 and female 116\n"
     ]
    }
   ],
   "source": [
    "# Get age and test set scores \n",
    "print('Mean age for MCI is',total_mci['Age'].mean(), 'and std is', total_mci['Age'].std())\n",
    "print('Number of male for MCI is', len(total_mci[total_mci['Sex'] == 'M']['SubjectID'].unique()), 'and female', len(total_mci[total_mci['Sex'] == 'F']['SubjectID'].unique()))"
   ]
  },
  {
   "cell_type": "code",
   "execution_count": 21,
   "metadata": {},
   "outputs": [],
   "source": [
    "data_tests = [[total_mci['MMSE Total Score'].mean(), total_mci['MMSE Total Score'].std()],\n",
    "             [total_mci['FAQ Total Score'].mean(), total_mci['FAQ Total Score'].std()], \n",
    "             [total_mci['TOTALMOD'].mean(), total_mci['TOTALMOD'].std()]]"
   ]
  },
  {
   "cell_type": "code",
   "execution_count": 22,
   "metadata": {},
   "outputs": [
    {
     "data": {
      "text/html": [
       "<div>\n",
       "<style scoped>\n",
       "    .dataframe tbody tr th:only-of-type {\n",
       "        vertical-align: middle;\n",
       "    }\n",
       "\n",
       "    .dataframe tbody tr th {\n",
       "        vertical-align: top;\n",
       "    }\n",
       "\n",
       "    .dataframe thead th {\n",
       "        text-align: right;\n",
       "    }\n",
       "</style>\n",
       "<table border=\"1\" class=\"dataframe\">\n",
       "  <thead>\n",
       "    <tr style=\"text-align: right;\">\n",
       "      <th></th>\n",
       "      <th>MCI mean</th>\n",
       "      <th>MCI std</th>\n",
       "    </tr>\n",
       "  </thead>\n",
       "  <tbody>\n",
       "    <tr>\n",
       "      <th>MMSE</th>\n",
       "      <td>26.105350</td>\n",
       "      <td>3.151908</td>\n",
       "    </tr>\n",
       "    <tr>\n",
       "      <th>FAQ</th>\n",
       "      <td>6.545045</td>\n",
       "      <td>6.317796</td>\n",
       "    </tr>\n",
       "    <tr>\n",
       "      <th>ADAS13</th>\n",
       "      <td>20.546238</td>\n",
       "      <td>8.568647</td>\n",
       "    </tr>\n",
       "  </tbody>\n",
       "</table>\n",
       "</div>"
      ],
      "text/plain": [
       "         MCI mean   MCI std\n",
       "MMSE    26.105350  3.151908\n",
       "FAQ      6.545045  6.317796\n",
       "ADAS13  20.546238  8.568647"
      ]
     },
     "execution_count": 22,
     "metadata": {},
     "output_type": "execute_result"
    }
   ],
   "source": [
    "tests = pd.DataFrame(data_tests, columns = ['MCI mean', 'MCI std'], index = ['MMSE', 'FAQ', 'ADAS13'])\n",
    "tests"
   ]
  },
  {
   "cell_type": "markdown",
   "metadata": {},
   "source": [
    "## Statistics for conv vs no conv"
   ]
  },
  {
   "cell_type": "code",
   "execution_count": 23,
   "metadata": {},
   "outputs": [
    {
     "name": "stdout",
     "output_type": "stream",
     "text": [
      "511 116\n",
      "709 211\n"
     ]
    }
   ],
   "source": [
    "# Rename variables\n",
    "data_conv = converters\n",
    "data_no_conv = data_mci"
   ]
  },
  {
   "cell_type": "code",
   "execution_count": 24,
   "metadata": {},
   "outputs": [
    {
     "name": "stdout",
     "output_type": "stream",
     "text": [
      "Mean age for MCI conv is 75.48062622309199 and std is 7.191042657990322\n",
      "Mean age for MCI no conv is 75.93258110014095 and std is 7.218369279253879\n"
     ]
    }
   ],
   "source": [
    "# Get statistics for MCI converters and non converters \n",
    "print('Mean age for MCI conv is', data_conv['Age'].mean(), 'and std is', data_conv['Age'].std())\n",
    "print('Mean age for MCI no conv is', data_no_conv['Age'].mean(), 'and std is', data_no_conv['Age'].std())"
   ]
  },
  {
   "cell_type": "code",
   "execution_count": 35,
   "metadata": {},
   "outputs": [
    {
     "name": "stdout",
     "output_type": "stream",
     "text": [
      "Number of male for MCI conv is 72 and female 44\n",
      "Number of male for MCI no conv is 139 and female 72\n"
     ]
    }
   ],
   "source": [
    "print('Number of male for MCI conv is', len(data_conv[data_conv['Sex'] == 'M']['SubjectID'].unique()), 'and female', len(data_conv[data_conv['Sex'] == 'F']['SubjectID'].unique()))\n",
    "print('Number of male for MCI no conv is', len(data_no_conv[data_no_conv['Sex'] == 'M']['SubjectID'].unique()), 'and female', len(data_no_conv[data_no_conv['Sex'] == 'F']['SubjectID'].unique()))"
   ]
  },
  {
   "cell_type": "code",
   "execution_count": 26,
   "metadata": {},
   "outputs": [],
   "source": [
    "data_tests = [[data_conv['MMSE Total Score'].mean(), data_conv['MMSE Total Score'].std(), data_no_conv['MMSE Total Score'].mean(), data_no_conv['MMSE Total Score'].std()],\n",
    "             [data_conv['FAQ Total Score'].mean(), data_conv['FAQ Total Score'].std(), data_no_conv['FAQ Total Score'].mean(), data_no_conv['FAQ Total Score'].std()], \n",
    "             [data_conv['TOTALMOD'].mean(), data_conv['TOTALMOD'].std(), data_no_conv['TOTALMOD'].mean(), data_no_conv['TOTALMOD'].std()]]"
   ]
  },
  {
   "cell_type": "code",
   "execution_count": 27,
   "metadata": {},
   "outputs": [
    {
     "data": {
      "text/html": [
       "<div>\n",
       "<style scoped>\n",
       "    .dataframe tbody tr th:only-of-type {\n",
       "        vertical-align: middle;\n",
       "    }\n",
       "\n",
       "    .dataframe tbody tr th {\n",
       "        vertical-align: top;\n",
       "    }\n",
       "\n",
       "    .dataframe thead th {\n",
       "        text-align: right;\n",
       "    }\n",
       "</style>\n",
       "<table border=\"1\" class=\"dataframe\">\n",
       "  <thead>\n",
       "    <tr style=\"text-align: right;\">\n",
       "      <th></th>\n",
       "      <th>conv mean</th>\n",
       "      <th>conv std</th>\n",
       "      <th>no conv mean</th>\n",
       "      <th>no conv std</th>\n",
       "    </tr>\n",
       "  </thead>\n",
       "  <tbody>\n",
       "    <tr>\n",
       "      <th>MMSE</th>\n",
       "      <td>24.586275</td>\n",
       "      <td>3.284094</td>\n",
       "      <td>27.204255</td>\n",
       "      <td>2.540185</td>\n",
       "    </tr>\n",
       "    <tr>\n",
       "      <th>FAQ</th>\n",
       "      <td>10.455471</td>\n",
       "      <td>6.318799</td>\n",
       "      <td>3.440404</td>\n",
       "      <td>4.261681</td>\n",
       "    </tr>\n",
       "    <tr>\n",
       "      <th>ADAS13</th>\n",
       "      <td>25.112309</td>\n",
       "      <td>8.445865</td>\n",
       "      <td>17.255317</td>\n",
       "      <td>7.009778</td>\n",
       "    </tr>\n",
       "  </tbody>\n",
       "</table>\n",
       "</div>"
      ],
      "text/plain": [
       "        conv mean  conv std  no conv mean  no conv std\n",
       "MMSE    24.586275  3.284094     27.204255     2.540185\n",
       "FAQ     10.455471  6.318799      3.440404     4.261681\n",
       "ADAS13  25.112309  8.445865     17.255317     7.009778"
      ]
     },
     "execution_count": 27,
     "metadata": {},
     "output_type": "execute_result"
    }
   ],
   "source": [
    "tests = pd.DataFrame(data_tests, columns = ['conv mean', 'conv std', 'no conv mean', 'no conv std'], index = ['MMSE', 'FAQ', 'ADAS13'])\n",
    "tests"
   ]
  },
  {
   "cell_type": "code",
   "execution_count": 28,
   "metadata": {},
   "outputs": [],
   "source": [
    "# Export csv files \n",
    "export_csv_mci_no_conv = data_no_conv.to_csv(r'/analysis/ritter/projects/AD/Budding_Spectral_Analysis/data/' + 'ADNI_mci_no_conv.csv', index = None, header = True)\n",
    "export_csv_mci_conv = data_conv.to_csv(r'/analysis/ritter/projects/AD/Budding_Spectral_Analysis/data/' + 'ADNI_mci_conv.csv', index = None, header = True)"
   ]
  },
  {
   "cell_type": "code",
   "execution_count": null,
   "metadata": {},
   "outputs": [],
   "source": []
  }
 ],
 "metadata": {
  "kernelspec": {
   "display_name": "Python 3",
   "language": "python",
   "name": "python3"
  },
  "language_info": {
   "codemirror_mode": {
    "name": "ipython",
    "version": 3
   },
   "file_extension": ".py",
   "mimetype": "text/x-python",
   "name": "python",
   "nbconvert_exporter": "python",
   "pygments_lexer": "ipython3",
   "version": "3.7.3"
  }
 },
 "nbformat": 4,
 "nbformat_minor": 2
}
