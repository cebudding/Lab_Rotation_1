{
 "cells": [
  {
   "cell_type": "code",
   "execution_count": 1,
   "metadata": {},
   "outputs": [],
   "source": [
    "import os\n",
    "import sys\n",
    "import matplotlib.pyplot as plt\n",
    "import numpy as np\n",
    "import pandas as pd\n",
    "\n",
    "import nibabel as nib\n",
    "from sklearn.model_selection import train_test_split\n",
    "from scipy.ndimage.interpolation import zoom\n",
    "from tabulate import tabulate\n",
    "\n",
    "sys.path.insert(0,\"/analysis/ritter/AD/Budding_Spectral_Analysis/code/nitorch/\")\n",
    "from nitorch.data import load_nifti"
   ]
  },
  {
   "cell_type": "code",
   "execution_count": 2,
   "metadata": {},
   "outputs": [],
   "source": [
    "working_dir = \"/analysis/ritter/data/ADNI/ADNI_BIDS_skull_stripped\"\n",
    "## This project does not use downsized images \n",
    "z_factor = 0.525"
   ]
  },
  {
   "cell_type": "code",
   "execution_count": 3,
   "metadata": {},
   "outputs": [
    {
     "data": {
      "text/html": [
       "<div>\n",
       "<style scoped>\n",
       "    .dataframe tbody tr th:only-of-type {\n",
       "        vertical-align: middle;\n",
       "    }\n",
       "\n",
       "    .dataframe tbody tr th {\n",
       "        vertical-align: top;\n",
       "    }\n",
       "\n",
       "    .dataframe thead th {\n",
       "        text-align: right;\n",
       "    }\n",
       "</style>\n",
       "<table border=\"1\" class=\"dataframe\">\n",
       "  <thead>\n",
       "    <tr style=\"text-align: right;\">\n",
       "      <th></th>\n",
       "      <th>SubjectID</th>\n",
       "      <th>Phase</th>\n",
       "      <th>Sex</th>\n",
       "      <th>Weight</th>\n",
       "      <th>Research Group</th>\n",
       "      <th>Visit</th>\n",
       "      <th>Archive Date</th>\n",
       "      <th>Study Date</th>\n",
       "      <th>Age</th>\n",
       "      <th>MMSE Total Score</th>\n",
       "      <th>GDSCALE Total Score</th>\n",
       "      <th>Global CDR</th>\n",
       "      <th>FAQ Total Score</th>\n",
       "      <th>NPI-Q Total Score</th>\n",
       "      <th>Preprocessing</th>\n",
       "      <th>Image ID</th>\n",
       "      <th>session</th>\n",
       "      <th>path</th>\n",
       "      <th>TOTAL11</th>\n",
       "      <th>TOTALMOD</th>\n",
       "    </tr>\n",
       "  </thead>\n",
       "  <tbody>\n",
       "    <tr>\n",
       "      <th>0</th>\n",
       "      <td>123_S_0094</td>\n",
       "      <td>ADNI 1</td>\n",
       "      <td>F</td>\n",
       "      <td>76.2</td>\n",
       "      <td>AD</td>\n",
       "      <td>ADNI1/GO Month 24</td>\n",
       "      <td>2/23/2008</td>\n",
       "      <td>1/12/2008</td>\n",
       "      <td>72.9</td>\n",
       "      <td>17.0</td>\n",
       "      <td>1.0</td>\n",
       "      <td>1.0</td>\n",
       "      <td>30.0</td>\n",
       "      <td>12.0</td>\n",
       "      <td>N3 +  Scaled</td>\n",
       "      <td>91942</td>\n",
       "      <td>month24</td>\n",
       "      <td>123_S_0094/month24/anat/sub-123_S_0094_ses-mon...</td>\n",
       "      <td>42.67</td>\n",
       "      <td>56.67</td>\n",
       "    </tr>\n",
       "    <tr>\n",
       "      <th>1</th>\n",
       "      <td>023_S_0084</td>\n",
       "      <td>ADNI 1</td>\n",
       "      <td>F</td>\n",
       "      <td>71.0</td>\n",
       "      <td>AD</td>\n",
       "      <td>ADNI1/GO Month 12</td>\n",
       "      <td>4/27/2007</td>\n",
       "      <td>1/24/2007</td>\n",
       "      <td>76.5</td>\n",
       "      <td>25.0</td>\n",
       "      <td>1.0</td>\n",
       "      <td>0.5</td>\n",
       "      <td>14.0</td>\n",
       "      <td>3.0</td>\n",
       "      <td>GradWarp +  B1 Correction +  N3 +  Scaled</td>\n",
       "      <td>52044</td>\n",
       "      <td>month12</td>\n",
       "      <td>023_S_0084/month12/anat/sub-023_S_0084_ses-mon...</td>\n",
       "      <td>15.33</td>\n",
       "      <td>24.33</td>\n",
       "    </tr>\n",
       "    <tr>\n",
       "      <th>2</th>\n",
       "      <td>023_S_0084</td>\n",
       "      <td>ADNI 1</td>\n",
       "      <td>F</td>\n",
       "      <td>68.5</td>\n",
       "      <td>AD</td>\n",
       "      <td>ADNI Screening</td>\n",
       "      <td>12/01/2006</td>\n",
       "      <td>1/04/2006</td>\n",
       "      <td>75.4</td>\n",
       "      <td>24.0</td>\n",
       "      <td>0.0</td>\n",
       "      <td>0.5</td>\n",
       "      <td>NaN</td>\n",
       "      <td>NaN</td>\n",
       "      <td>GradWarp +  B1 Correction +  N3 +  Scaled</td>\n",
       "      <td>31205</td>\n",
       "      <td>screen</td>\n",
       "      <td>023_S_0084/screen/anat/sub-023_S_0084_ses-scre...</td>\n",
       "      <td>14.00</td>\n",
       "      <td>23.00</td>\n",
       "    </tr>\n",
       "    <tr>\n",
       "      <th>3</th>\n",
       "      <td>036_S_0759</td>\n",
       "      <td>ADNI 1</td>\n",
       "      <td>F</td>\n",
       "      <td>76.0</td>\n",
       "      <td>AD</td>\n",
       "      <td>ADNI1/GO Month 12</td>\n",
       "      <td>11/15/2007</td>\n",
       "      <td>8/30/2007</td>\n",
       "      <td>82.9</td>\n",
       "      <td>21.0</td>\n",
       "      <td>1.0</td>\n",
       "      <td>1.0</td>\n",
       "      <td>26.0</td>\n",
       "      <td>9.0</td>\n",
       "      <td>GradWarp +  B1 Correction +  N3 +  Scaled</td>\n",
       "      <td>82336</td>\n",
       "      <td>month12</td>\n",
       "      <td>036_S_0759/month12/anat/sub-036_S_0759_ses-mon...</td>\n",
       "      <td>28.00</td>\n",
       "      <td>39.00</td>\n",
       "    </tr>\n",
       "    <tr>\n",
       "      <th>4</th>\n",
       "      <td>062_S_0730</td>\n",
       "      <td>ADNI 1</td>\n",
       "      <td>F</td>\n",
       "      <td>59.4</td>\n",
       "      <td>AD</td>\n",
       "      <td>ADNI1/GO Month 24</td>\n",
       "      <td>10/23/2008</td>\n",
       "      <td>8/04/2008</td>\n",
       "      <td>72.7</td>\n",
       "      <td>8.0</td>\n",
       "      <td>9.0</td>\n",
       "      <td>2.0</td>\n",
       "      <td>24.0</td>\n",
       "      <td>8.0</td>\n",
       "      <td>GradWarp +  B1 Correction +  N3 +  Scaled</td>\n",
       "      <td>123220</td>\n",
       "      <td>month24</td>\n",
       "      <td>062_S_0730/month24/anat/sub-062_S_0730_ses-mon...</td>\n",
       "      <td>55.00</td>\n",
       "      <td>68.00</td>\n",
       "    </tr>\n",
       "  </tbody>\n",
       "</table>\n",
       "</div>"
      ],
      "text/plain": [
       "    SubjectID   Phase Sex  Weight Research Group              Visit  \\\n",
       "0  123_S_0094  ADNI 1   F    76.2             AD  ADNI1/GO Month 24   \n",
       "1  023_S_0084  ADNI 1   F    71.0             AD  ADNI1/GO Month 12   \n",
       "2  023_S_0084  ADNI 1   F    68.5             AD     ADNI Screening   \n",
       "3  036_S_0759  ADNI 1   F    76.0             AD  ADNI1/GO Month 12   \n",
       "4  062_S_0730  ADNI 1   F    59.4             AD  ADNI1/GO Month 24   \n",
       "\n",
       "  Archive Date Study Date   Age  MMSE Total Score  GDSCALE Total Score  \\\n",
       "0    2/23/2008  1/12/2008  72.9              17.0                  1.0   \n",
       "1    4/27/2007  1/24/2007  76.5              25.0                  1.0   \n",
       "2   12/01/2006  1/04/2006  75.4              24.0                  0.0   \n",
       "3   11/15/2007  8/30/2007  82.9              21.0                  1.0   \n",
       "4   10/23/2008  8/04/2008  72.7               8.0                  9.0   \n",
       "\n",
       "   Global CDR  FAQ Total Score  NPI-Q Total Score  \\\n",
       "0         1.0             30.0               12.0   \n",
       "1         0.5             14.0                3.0   \n",
       "2         0.5              NaN                NaN   \n",
       "3         1.0             26.0                9.0   \n",
       "4         2.0             24.0                8.0   \n",
       "\n",
       "                                 Preprocessing  Image ID  session  \\\n",
       "0                                N3 +  Scaled      91942  month24   \n",
       "1   GradWarp +  B1 Correction +  N3 +  Scaled      52044  month12   \n",
       "2   GradWarp +  B1 Correction +  N3 +  Scaled      31205   screen   \n",
       "3   GradWarp +  B1 Correction +  N3 +  Scaled      82336  month12   \n",
       "4   GradWarp +  B1 Correction +  N3 +  Scaled     123220  month24   \n",
       "\n",
       "                                                path  TOTAL11  TOTALMOD  \n",
       "0  123_S_0094/month24/anat/sub-123_S_0094_ses-mon...    42.67     56.67  \n",
       "1  023_S_0084/month12/anat/sub-023_S_0084_ses-mon...    15.33     24.33  \n",
       "2  023_S_0084/screen/anat/sub-023_S_0084_ses-scre...    14.00     23.00  \n",
       "3  036_S_0759/month12/anat/sub-036_S_0759_ses-mon...    28.00     39.00  \n",
       "4  062_S_0730/month24/anat/sub-062_S_0730_ses-mon...    55.00     68.00  "
      ]
     },
     "execution_count": 3,
     "metadata": {},
     "output_type": "execute_result"
    }
   ],
   "source": [
    "# comment in relevant data \n",
    "# data_training = pd.read_csv('/analysis/ritter/projects/AD/Budding_Spectral_Analysis/data/data_test_model/ADNI_training_set_4.csv', delimiter = ',')\n",
    "# data_holdout = pd.read_csv('/analysis/ritter/projects/AD/Budding_Spectral_Analysis/data/data_test_model/ADNI_holdout.csv', delimiter = ',')\n",
    "# data_validation = pd.read_csv('/analysis/ritter/projects/AD/Budding_Spectral_Analysis/data/data_test_model/ADNI_validation_set_4.csv', delimiter = ',')\n",
    "# all_data = pd.concat([data_training, data_holdout, data_validation])\n",
    "\n",
    "data_f = pd.read_csv('/analysis/ritter/projects/AD/Budding_Spectral_Analysis/data/holdout_splits/ADNI_holdout_f.csv', delimiter = ',')\n",
    "data_m = pd.read_csv('/analysis/ritter/projects/AD/Budding_Spectral_Analysis/data/holdout_splits/ADNI_holdout_m.csv', delimiter = ',')\n",
    "data_60_73 = pd.read_csv('/analysis/ritter/projects/AD/Budding_Spectral_Analysis/data/holdout_splits/ADNI_holdout_60_73.csv', delimiter = ',')\n",
    "data_73_78 = pd.read_csv('/analysis/ritter/projects/AD/Budding_Spectral_Analysis/data/holdout_splits/ADNI_holdout_73_78.csv', delimiter = ',')\n",
    "data_78_90 = pd.read_csv('/analysis/ritter/projects/AD/Budding_Spectral_Analysis/data/holdout_splits/ADNI_holdout_78_90.csv', delimiter = ',')\n",
    "\n",
    "# export_all_data = all_data.to_csv(r'/analysis/ritter/projects/AD/Budding_Spectral_Analysis/data/' + 'ADNI_all_data.csv', index = None, header = True)\n",
    "\n",
    "data_f.head()"
   ]
  },
  {
   "cell_type": "code",
   "execution_count": 4,
   "metadata": {},
   "outputs": [
    {
     "data": {
      "text/html": [
       "<div>\n",
       "<style scoped>\n",
       "    .dataframe tbody tr th:only-of-type {\n",
       "        vertical-align: middle;\n",
       "    }\n",
       "\n",
       "    .dataframe tbody tr th {\n",
       "        vertical-align: top;\n",
       "    }\n",
       "\n",
       "    .dataframe thead th {\n",
       "        text-align: right;\n",
       "    }\n",
       "</style>\n",
       "<table border=\"1\" class=\"dataframe\">\n",
       "  <thead>\n",
       "    <tr style=\"text-align: right;\">\n",
       "      <th></th>\n",
       "      <th>SubjectID</th>\n",
       "      <th>Phase</th>\n",
       "      <th>Sex</th>\n",
       "      <th>Weight</th>\n",
       "      <th>Research Group</th>\n",
       "      <th>Visit</th>\n",
       "      <th>Archive Date</th>\n",
       "      <th>Study Date</th>\n",
       "      <th>Age</th>\n",
       "      <th>MMSE Total Score</th>\n",
       "      <th>GDSCALE Total Score</th>\n",
       "      <th>Global CDR</th>\n",
       "      <th>FAQ Total Score</th>\n",
       "      <th>NPI-Q Total Score</th>\n",
       "      <th>Preprocessing</th>\n",
       "      <th>Image ID</th>\n",
       "      <th>session</th>\n",
       "      <th>path</th>\n",
       "      <th>TOTAL11</th>\n",
       "      <th>TOTALMOD</th>\n",
       "    </tr>\n",
       "  </thead>\n",
       "  <tbody>\n",
       "    <tr>\n",
       "      <th>0</th>\n",
       "      <td>098_S_0149</td>\n",
       "      <td>ADNI 1</td>\n",
       "      <td>M</td>\n",
       "      <td>76.7</td>\n",
       "      <td>AD</td>\n",
       "      <td>ADNI1/GO Month 24</td>\n",
       "      <td>2/23/2008</td>\n",
       "      <td>1/21/2008</td>\n",
       "      <td>89.8</td>\n",
       "      <td>20.0</td>\n",
       "      <td>1.0</td>\n",
       "      <td>1.0</td>\n",
       "      <td>19.0</td>\n",
       "      <td>3.0</td>\n",
       "      <td>GradWarp +  B1 Correction +  N3 +  Scaled</td>\n",
       "      <td>91891</td>\n",
       "      <td>month24</td>\n",
       "      <td>098_S_0149/month24/anat/sub-098_S_0149_ses-mon...</td>\n",
       "      <td>21.67</td>\n",
       "      <td>32.67</td>\n",
       "    </tr>\n",
       "    <tr>\n",
       "      <th>1</th>\n",
       "      <td>007_S_0316</td>\n",
       "      <td>ADNI 1</td>\n",
       "      <td>M</td>\n",
       "      <td>74.4</td>\n",
       "      <td>AD</td>\n",
       "      <td>ADNI1/GO Month 24</td>\n",
       "      <td>6/02/2008</td>\n",
       "      <td>5/20/2008</td>\n",
       "      <td>83.1</td>\n",
       "      <td>21.0</td>\n",
       "      <td>2.0</td>\n",
       "      <td>1.0</td>\n",
       "      <td>14.0</td>\n",
       "      <td>9.0</td>\n",
       "      <td>GradWarp +  B1 Correction +  N3 +  Scaled</td>\n",
       "      <td>107975</td>\n",
       "      <td>month24</td>\n",
       "      <td>007_S_0316/month24/anat/sub-007_S_0316_ses-mon...</td>\n",
       "      <td>25.00</td>\n",
       "      <td>34.00</td>\n",
       "    </tr>\n",
       "    <tr>\n",
       "      <th>2</th>\n",
       "      <td>007_S_0316</td>\n",
       "      <td>ADNI 1</td>\n",
       "      <td>M</td>\n",
       "      <td>73.7</td>\n",
       "      <td>AD</td>\n",
       "      <td>ADNI Screening</td>\n",
       "      <td>1/17/2007</td>\n",
       "      <td>3/29/2006</td>\n",
       "      <td>80.9</td>\n",
       "      <td>26.0</td>\n",
       "      <td>1.0</td>\n",
       "      <td>1.0</td>\n",
       "      <td>NaN</td>\n",
       "      <td>NaN</td>\n",
       "      <td>GradWarp +  B1 Correction +  N3 +  Scaled</td>\n",
       "      <td>36573</td>\n",
       "      <td>screen</td>\n",
       "      <td>007_S_0316/screen/anat/sub-007_S_0316_ses-scre...</td>\n",
       "      <td>19.00</td>\n",
       "      <td>29.00</td>\n",
       "    </tr>\n",
       "    <tr>\n",
       "      <th>3</th>\n",
       "      <td>098_S_0149</td>\n",
       "      <td>ADNI 1</td>\n",
       "      <td>M</td>\n",
       "      <td>74.8</td>\n",
       "      <td>AD</td>\n",
       "      <td>ADNI1/GO Month 6</td>\n",
       "      <td>2/06/2008</td>\n",
       "      <td>8/12/2006</td>\n",
       "      <td>88.4</td>\n",
       "      <td>22.0</td>\n",
       "      <td>NaN</td>\n",
       "      <td>1.0</td>\n",
       "      <td>21.0</td>\n",
       "      <td>0.0</td>\n",
       "      <td>GradWarp +  B1 Correction +  N3 +  Scaled</td>\n",
       "      <td>89454</td>\n",
       "      <td>month06</td>\n",
       "      <td>098_S_0149/month06/anat/sub-098_S_0149_ses-mon...</td>\n",
       "      <td>18.00</td>\n",
       "      <td>29.00</td>\n",
       "    </tr>\n",
       "    <tr>\n",
       "      <th>4</th>\n",
       "      <td>098_S_0149</td>\n",
       "      <td>ADNI 1</td>\n",
       "      <td>M</td>\n",
       "      <td>74.4</td>\n",
       "      <td>AD</td>\n",
       "      <td>ADNI1/GO Month 12</td>\n",
       "      <td>6/05/2007</td>\n",
       "      <td>2/19/2007</td>\n",
       "      <td>88.9</td>\n",
       "      <td>22.0</td>\n",
       "      <td>1.0</td>\n",
       "      <td>1.0</td>\n",
       "      <td>18.0</td>\n",
       "      <td>3.0</td>\n",
       "      <td>GradWarp +  B1 Correction +  N3 +  Scaled</td>\n",
       "      <td>55999</td>\n",
       "      <td>month12</td>\n",
       "      <td>098_S_0149/month12/anat/sub-098_S_0149_ses-mon...</td>\n",
       "      <td>17.00</td>\n",
       "      <td>27.00</td>\n",
       "    </tr>\n",
       "  </tbody>\n",
       "</table>\n",
       "</div>"
      ],
      "text/plain": [
       "    SubjectID   Phase Sex  Weight Research Group              Visit  \\\n",
       "0  098_S_0149  ADNI 1   M    76.7             AD  ADNI1/GO Month 24   \n",
       "1  007_S_0316  ADNI 1   M    74.4             AD  ADNI1/GO Month 24   \n",
       "2  007_S_0316  ADNI 1   M    73.7             AD     ADNI Screening   \n",
       "3  098_S_0149  ADNI 1   M    74.8             AD   ADNI1/GO Month 6   \n",
       "4  098_S_0149  ADNI 1   M    74.4             AD  ADNI1/GO Month 12   \n",
       "\n",
       "  Archive Date Study Date   Age  MMSE Total Score  GDSCALE Total Score  \\\n",
       "0    2/23/2008  1/21/2008  89.8              20.0                  1.0   \n",
       "1    6/02/2008  5/20/2008  83.1              21.0                  2.0   \n",
       "2    1/17/2007  3/29/2006  80.9              26.0                  1.0   \n",
       "3    2/06/2008  8/12/2006  88.4              22.0                  NaN   \n",
       "4    6/05/2007  2/19/2007  88.9              22.0                  1.0   \n",
       "\n",
       "   Global CDR  FAQ Total Score  NPI-Q Total Score  \\\n",
       "0         1.0             19.0                3.0   \n",
       "1         1.0             14.0                9.0   \n",
       "2         1.0              NaN                NaN   \n",
       "3         1.0             21.0                0.0   \n",
       "4         1.0             18.0                3.0   \n",
       "\n",
       "                                 Preprocessing  Image ID  session  \\\n",
       "0   GradWarp +  B1 Correction +  N3 +  Scaled      91891  month24   \n",
       "1   GradWarp +  B1 Correction +  N3 +  Scaled     107975  month24   \n",
       "2   GradWarp +  B1 Correction +  N3 +  Scaled      36573   screen   \n",
       "3   GradWarp +  B1 Correction +  N3 +  Scaled      89454  month06   \n",
       "4   GradWarp +  B1 Correction +  N3 +  Scaled      55999  month12   \n",
       "\n",
       "                                                path  TOTAL11  TOTALMOD  \n",
       "0  098_S_0149/month24/anat/sub-098_S_0149_ses-mon...    21.67     32.67  \n",
       "1  007_S_0316/month24/anat/sub-007_S_0316_ses-mon...    25.00     34.00  \n",
       "2  007_S_0316/screen/anat/sub-007_S_0316_ses-scre...    19.00     29.00  \n",
       "3  098_S_0149/month06/anat/sub-098_S_0149_ses-mon...    18.00     29.00  \n",
       "4  098_S_0149/month12/anat/sub-098_S_0149_ses-mon...    17.00     27.00  "
      ]
     },
     "execution_count": 4,
     "metadata": {},
     "output_type": "execute_result"
    }
   ],
   "source": [
    "data_m.head()"
   ]
  },
  {
   "cell_type": "code",
   "execution_count": 8,
   "metadata": {},
   "outputs": [],
   "source": [
    "# load images in matrix\n",
    "def create_dataset(dataset, to_zoom = None, z_factor = 1, mask=None):\n",
    "    data_matrix = [] \n",
    "    labels = [] \n",
    "    for idx, row in dataset.iterrows():\n",
    "        path = os.path.join(working_dir, row[\"path\"])\n",
    "        struct_arr = np.NAN\n",
    "        #try:\n",
    "        scan = nib.load(path)\n",
    "        struct_arr = scan.get_data().astype(np.float32)\n",
    "        if mask is not None:\n",
    "            struct_arr *= mask\n",
    "#         if to_zoom is not None:\n",
    "#             struct_arr = zoom(struct_arr, z_factor)\n",
    "        data_matrix.append(struct_arr)\n",
    "        labels.append((row[\"Research Group\"] == \"AD\") *1)\n",
    "        \n",
    "#         what to do with labelling MCI? not training on this so doesn't need specific label? \n",
    "#         labels.append((row[\"Research Group\"] == \"MCI\") *2)\n",
    "        #except:\n",
    "        #    print(\"Couldnt find file: {}. Skipping\".format(path))           \n",
    "    return np.array(data_matrix), np.array(labels)"
   ]
  },
  {
   "cell_type": "code",
   "execution_count": 9,
   "metadata": {},
   "outputs": [],
   "source": [
    "to_zoom = False"
   ]
  },
  {
   "cell_type": "code",
   "execution_count": 10,
   "metadata": {},
   "outputs": [],
   "source": [
    "import time, datetime"
   ]
  },
  {
   "cell_type": "code",
   "execution_count": 11,
   "metadata": {},
   "outputs": [
    {
     "name": "stdout",
     "output_type": "stream",
     "text": [
      "Starting at Mon Sep 16 12:26:29 2019\n",
      "Runtime: 0:00:29.376864\n"
     ]
    }
   ],
   "source": [
    "print(\"Starting at \" + time.ctime())\n",
    "start = time.time()\n",
    "X_f, y_f = create_dataset(data_f)\n",
    "end = time.time()\n",
    "print(\"Runtime: \" + str(datetime.timedelta(seconds=(end-start))))"
   ]
  },
  {
   "cell_type": "code",
   "execution_count": 12,
   "metadata": {},
   "outputs": [
    {
     "name": "stdout",
     "output_type": "stream",
     "text": [
      "Starting at Mon Sep 16 12:26:58 2019\n",
      "Runtime: 0:00:30.875151\n"
     ]
    }
   ],
   "source": [
    "print(\"Starting at \" + time.ctime())\n",
    "start = time.time()\n",
    "X_m, y_m = create_dataset(data_m)\n",
    "end = time.time()\n",
    "print(\"Runtime: \" + str(datetime.timedelta(seconds=(end-start))))"
   ]
  },
  {
   "cell_type": "code",
   "execution_count": 13,
   "metadata": {},
   "outputs": [
    {
     "name": "stdout",
     "output_type": "stream",
     "text": [
      "Starting atMon Sep 16 12:27:29 2019\n",
      "Runtime: 0:00:12.131599\n"
     ]
    }
   ],
   "source": [
    "print(\"Starting at\" + time.ctime())\n",
    "start = time.time()\n",
    "X_60_73, y_60_73 = create_dataset(data_60_73)\n",
    "end = time.time()\n",
    "print(\"Runtime: \" + str(datetime.timedelta(seconds = (end - start))))"
   ]
  },
  {
   "cell_type": "code",
   "execution_count": 14,
   "metadata": {},
   "outputs": [
    {
     "name": "stdout",
     "output_type": "stream",
     "text": [
      "Starting atMon Sep 16 12:27:41 2019\n",
      "Runtime: 0:00:12.711405\n"
     ]
    }
   ],
   "source": [
    "print(\"Starting at\" + time.ctime())\n",
    "start = time.time()\n",
    "X_73_78, y_73_78 = create_dataset(data_73_78)\n",
    "end = time.time()\n",
    "print(\"Runtime: \" + str(datetime.timedelta(seconds = (end - start))))"
   ]
  },
  {
   "cell_type": "code",
   "execution_count": 15,
   "metadata": {},
   "outputs": [
    {
     "name": "stdout",
     "output_type": "stream",
     "text": [
      "Starting atMon Sep 16 12:27:54 2019\n",
      "Runtime: 0:00:11.053991\n"
     ]
    }
   ],
   "source": [
    "print(\"Starting at\" + time.ctime())\n",
    "start = time.time()\n",
    "X_78_90, y_78_90 = create_dataset(data_78_90)\n",
    "end = time.time()\n",
    "print(\"Runtime: \" + str(datetime.timedelta(seconds = (end - start))))"
   ]
  },
  {
   "cell_type": "code",
   "execution_count": 16,
   "metadata": {},
   "outputs": [
    {
     "data": {
      "text/plain": [
       "<matplotlib.image.AxesImage at 0x7f33d1d9b4a8>"
      ]
     },
     "execution_count": 16,
     "metadata": {},
     "output_type": "execute_result"
    },
    {
     "data": {
      "image/png": "[encoded data removed]",
      "text/plain": [
       "<Figure size 1080x360 with 2 Axes>"
      ]
     },
     "metadata": {
      "needs_background": "light"
     },
     "output_type": "display_data"
    }
   ],
   "source": [
    "fig, axs = plt.subplots(1, 2, figsize = (15, 5))\n",
    "axs[0].imshow(X_f[0][:,:,60], cmap='gray')\n",
    "axs[1].imshow(X_f[1][:,:,60], cmap='gray')"
   ]
  },
  {
   "cell_type": "code",
   "execution_count": 17,
   "metadata": {},
   "outputs": [
    {
     "data": {
      "text/plain": [
       "(88, 182, 218, 182)"
      ]
     },
     "execution_count": 17,
     "metadata": {},
     "output_type": "execute_result"
    }
   ],
   "source": [
    "X_f.shape"
   ]
  },
  {
   "cell_type": "code",
   "execution_count": 18,
   "metadata": {},
   "outputs": [],
   "source": [
    "import h5py"
   ]
  },
  {
   "cell_type": "code",
   "execution_count": 19,
   "metadata": {},
   "outputs": [],
   "source": [
    "h5 = h5py.File('/analysis/ritter/projects/AD/Budding_Spectral_Analysis/data/holdout_splits/ADNI_holdout_f.h5', 'w')\n",
    "h5.create_dataset('X', data=X_f, compression='gzip', compression_opts=9)\n",
    "h5.create_dataset('y', data=y_f, compression='gzip', compression_opts=9)\n",
    "h5.close()"
   ]
  },
  {
   "cell_type": "code",
   "execution_count": 20,
   "metadata": {},
   "outputs": [],
   "source": [
    "h5 = h5py.File('/analysis/ritter/projects/AD/Budding_Spectral_Analysis/data/holdout_splits/ADNI_holdout_m.h5', 'w')\n",
    "h5.create_dataset('X', data=X_m, compression='gzip', compression_opts=9)\n",
    "h5.create_dataset('y', data=y_m, compression='gzip', compression_opts=9)\n",
    "h5.close()"
   ]
  },
  {
   "cell_type": "code",
   "execution_count": 21,
   "metadata": {},
   "outputs": [],
   "source": [
    "h5 = h5py.File('/analysis/ritter/projects/AD/Budding_Spectral_Analysis/data/holdout_splits/ADNI_holdout_60_73.h5', 'w')\n",
    "h5.create_dataset('X', data=X_60_73, compression='gzip', compression_opts=9)\n",
    "h5.create_dataset('y', data=y_60_73, compression='gzip', compression_opts=9)\n",
    "h5.close()"
   ]
  },
  {
   "cell_type": "code",
   "execution_count": 22,
   "metadata": {},
   "outputs": [],
   "source": [
    "h5 = h5py.File('/analysis/ritter/projects/AD/Budding_Spectral_Analysis/data/holdout_splits/ADNI_holdout_73_78.h5', 'w')\n",
    "h5.create_dataset('X', data=X_73_78, compression='gzip', compression_opts=9)\n",
    "h5.create_dataset('y', data=y_73_78, compression='gzip', compression_opts=9)\n",
    "h5.close()"
   ]
  },
  {
   "cell_type": "code",
   "execution_count": 23,
   "metadata": {},
   "outputs": [],
   "source": [
    "h5 = h5py.File('/analysis/ritter/projects/AD/Budding_Spectral_Analysis/data/holdout_splits/ADNI_holdout_78_90.h5', 'w')\n",
    "h5.create_dataset('X', data=X_78_90, compression='gzip', compression_opts=9)\n",
    "h5.create_dataset('y', data=y_78_90, compression='gzip', compression_opts=9)\n",
    "h5.close()"
   ]
  },
  {
   "cell_type": "code",
   "execution_count": 24,
   "metadata": {},
   "outputs": [
    {
     "name": "stderr",
     "output_type": "stream",
     "text": [
      "ERROR:root:Invalid alias: The name clear can't be aliased because it is another magic command.\n",
      "ERROR:root:Invalid alias: The name more can't be aliased because it is another magic command.\n",
      "ERROR:root:Invalid alias: The name less can't be aliased because it is another magic command.\n",
      "ERROR:root:Invalid alias: The name man can't be aliased because it is another magic command.\n"
     ]
    }
   ],
   "source": [
    "quit()"
   ]
  }
 ],
 "metadata": {
  "kernelspec": {
   "display_name": "Python 3",
   "language": "python",
   "name": "python3"
  },
  "language_info": {
   "codemirror_mode": {
    "name": "ipython",
    "version": 3
   },
   "file_extension": ".py",
   "mimetype": "text/x-python",
   "name": "python",
   "nbconvert_exporter": "python",
   "pygments_lexer": "ipython3",
   "version": "3.7.3"
  }
 },
 "nbformat": 4,
 "nbformat_minor": 2
}
