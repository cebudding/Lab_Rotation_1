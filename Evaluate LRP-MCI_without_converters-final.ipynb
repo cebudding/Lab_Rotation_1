{
 "cells": [
  {
   "cell_type": "markdown",
   "metadata": {},
   "source": [
    "##### Import packages"
   ]
  },
  {
   "cell_type": "code",
   "execution_count": 1,
   "metadata": {
    "scrolled": true
   },
   "outputs": [],
   "source": [
    "%load_ext autoreload\n",
    "%autoreload 2"
   ]
  },
  {
   "cell_type": "code",
   "execution_count": 2,
   "metadata": {},
   "outputs": [],
   "source": [
    "import sys \n",
    "import os\n",
    "sys.path.insert(0, os.getcwd())"
   ]
  },
  {
   "cell_type": "code",
   "execution_count": 3,
   "metadata": {},
   "outputs": [
    {
     "name": "stdout",
     "output_type": "stream",
     "text": [
      "Adding model_path to namespace\n",
      "Adding data_path to namespace\n",
      "Adding ADNI_DIR to namespace\n",
      "Adding train_h5 to namespace\n",
      "Adding val_h5 to namespace\n",
      "Adding holdout_h5 to namespace\n",
      "Adding binary_brain_mask to namespace\n",
      "Adding nmm_mask_path to namespace\n",
      "Adding nmm_mask_path_scaled to namespace\n"
     ]
    }
   ],
   "source": [
    "import torch \n",
    "import pickle\n",
    "import nibabel\n",
    "\n",
    "from jrieke.utils import load_nifti, save_nifti\n",
    "from innvestigator import InnvestigateModel\n",
    "from settings import settings\n",
    "from utils import load_data, scale_mask\n",
    "from jrieke import interpretation\n",
    "from nmm_mask_areas import all_areas\n",
    "\n",
    "import numpy as np\n",
    "import pickle\n",
    "import model as models\n",
    "import matplotlib.pyplot as plt\n",
    "\n",
    "\n",
    "for k in settings.keys():\n",
    "    print(\"Adding \" + k + \" to namespace\")\n",
    "    globals()[k] = settings[k]"
   ]
  },
  {
   "cell_type": "markdown",
   "metadata": {},
   "source": [
    "## Load model"
   ]
  },
  {
   "cell_type": "code",
   "execution_count": 4,
   "metadata": {},
   "outputs": [
    {
     "name": "stdout",
     "output_type": "stream",
     "text": [
      "WARNING: With the chosen beta value, only negative contributions will be taken into account.\n",
      "Hence, if in any layer only positive contributions exist, the overall relevance will not be conserved.\n",
      "\n"
     ]
    }
   ],
   "source": [
    "device = 0\n",
    "net = models.ClassificationModel3D()\n",
    "net.cuda(device)\n",
    "\n",
    "net.load_state_dict(torch.load(model_path,\n",
    "                              map_location='cpu'))\n",
    "net.eval()\n",
    "\n",
    "net = torch.nn.Sequential(net, torch.nn.Softmax(dim=1))\n",
    "inn_model = InnvestigateModel(net, lrp_exponent=1,\n",
    "                                  method=\"b-rule\",\n",
    "                                  beta=0, epsilon=1e-6).cuda(device)\n",
    "inn_model.eval();\n"
   ]
  },
  {
   "cell_type": "markdown",
   "metadata": {},
   "source": [
    "## Load ADNI Data"
   ]
  },
  {
   "cell_type": "code",
   "execution_count": 5,
   "metadata": {},
   "outputs": [],
   "source": [
    "import h5py"
   ]
  },
  {
   "cell_type": "code",
   "execution_count": 6,
   "metadata": {},
   "outputs": [],
   "source": [
    "def min_max_normalization(subset):\n",
    "    for i in range(len(subset)):\n",
    "        subset[i] -= np.min(subset[i])\n",
    "        subset[i] /= np.max(subset[i])\n",
    "    return subset\n",
    "    \n",
    "def load_data(skip_train=True, skip_val=True, skip_test=False, dtype=np.float32):\n",
    "    \"\"\" Load hdf5 files and extract columns. \"\"\"\n",
    "    X_train, y_train, X_val, y_val, X_holdout, y_holdout = np.nan, np.nan, np.nan, np.nan, np.nan, np.nan\n",
    "    # train\n",
    "    if not skip_train:\n",
    "        train_h5_ = h5py.File(train_h5, 'r')\n",
    "        X_train, y_train = train_h5_['X'], train_h5_['y']\n",
    "        X_train = np.expand_dims(np.array(X_train, dtype=dtype), 1)\n",
    "        X_train = min_max_normalization(X_train)\n",
    "        y_train = np.array(y_train)\n",
    "        print(\"Total training set length: {}\".format(len(y_train)))\n",
    "        print(\"Number of healthy controls: {}\".format(len(np.array(y_train)[np.array(y_train)==0.])))\n",
    "        print(\"Number of AD patients: {}\".format(len(np.array(y_train)[np.array(y_train)==1.])))\n",
    "    if not skip_val:\n",
    "        # val\n",
    "        val_h5_ = h5py.File(val_h5, 'r')\n",
    "        X_val, y_val = val_h5_['X'], val_h5_['y']\n",
    "        X_val = np.expand_dims(np.array(X_val, dtype=dtype), 1)\n",
    "        X_val = min_max_normalization(X_val)\n",
    "        y_val = np.array(y_val)\n",
    "        print(\"Total validation set length: {}\".format(len(y_val)))\n",
    "        \n",
    "    if not skip_test:\n",
    "        # test\n",
    "        holdout_h5_ = h5py.File(holdout_h5, 'r')\n",
    "        X_holdout, y_holdout = holdout_h5_['X'], holdout_h5_['y']\n",
    "        X_holdout = np.expand_dims(np.array(X_holdout, dtype=dtype), 1)\n",
    "        X_holdout = min_max_normalization(X_holdout)\n",
    "        y_holdout = np.array(y_holdout)\n",
    "        print(\"Total test set length: {}\".format(len(y_holdout)))\n",
    "   \n",
    "    return X_train, y_train, X_val, y_val, X_holdout, y_holdout\n"
   ]
  },
  {
   "cell_type": "code",
   "execution_count": 7,
   "metadata": {},
   "outputs": [
    {
     "name": "stdout",
     "output_type": "stream",
     "text": [
      "Total test set length: 709\n"
     ]
    }
   ],
   "source": [
    "X_train, y_train, X_val, y_val, X_holdout, y_holdout = load_data()\n",
    "\n",
    "image_shape = X_holdout.shape[1:-1]"
   ]
  },
  {
   "cell_type": "markdown",
   "metadata": {},
   "source": [
    "## Load mask"
   ]
  },
  {
   "cell_type": "code",
   "execution_count": 8,
   "metadata": {},
   "outputs": [],
   "source": [
    "mri_shape = X_holdout.shape[2:]\n",
    "\n",
    "scaled_map = True\n",
    "\n",
    "if scaled_map is False:\n",
    "    neuromorph_map = nibabel.load(nmm_mask_path).get_data()\n",
    "    plt.imshow(neuromorph_map[:,:,70])\n",
    "    print(neuromorph_map.shape)\n",
    "    nmm_mask = scale_mask(neuromorph_map, mri_shape)\n",
    "    save_nifti(nmm_mask_path_scaled, nmm_mask)\n",
    "else:\n",
    "    nmm_mask = load_nifti(nmm_mask_path_scaled)\n",
    "\n",
    "# all_areas holds the area name and a tuple with the minimum \n",
    "# idx in the NMM mask and the maximum idx in the NMM mask belonging to that area\n",
    "area_masks = {k: None for k in all_areas.keys()}\n",
    "for name, (min_idx, max_idx) in all_areas.items():\n",
    "    area_mask = np.zeros(mri_shape)\n",
    "    area_mask[np.logical_and(nmm_mask>=min_idx, nmm_mask<=max_idx)] = 1\n",
    "    area_masks[name] = area_mask"
   ]
  },
  {
   "cell_type": "markdown",
   "metadata": {},
   "source": [
    "## Evaluate Guided Backprop and LRP on dataset"
   ]
  },
  {
   "cell_type": "code",
   "execution_count": 9,
   "metadata": {},
   "outputs": [],
   "source": [
    "def run_LRP(net, image_tensor):\n",
    "    return inn_model.innvestigate(in_tensor=image_tensor, rel_for_class=1)"
   ]
  },
  {
   "cell_type": "code",
   "execution_count": 10,
   "metadata": {},
   "outputs": [],
   "source": [
    "cases = [\"AD\", \"HC\", \"TP\", \"TN\", \"FP\", \"FN\"]\n",
    "\n",
    "mean_maps_LRP = {case: np.zeros(mri_shape) for case in cases}\n",
    "rs_per_area_LRP = {case: {k: [] for k in all_areas.keys()} for case in cases}\n",
    "heatmaps_LRP = {case: [] for case in cases}\n",
    "\n",
    "counts = {case: 0 for case in cases}\n",
    "area_sizes = {k: 0 for k in all_areas.keys()}\n",
    "\n",
    "all_heatmaps_LRP = []"
   ]
  },
  {
   "cell_type": "markdown",
   "metadata": {},
   "source": [
    "#####  Run evaluation"
   ]
  },
  {
   "cell_type": "code",
   "execution_count": 11,
   "metadata": {
    "scrolled": true
   },
   "outputs": [
    {
     "name": "stdout",
     "output_type": "stream",
     "text": [
      "Completed 100.00%  \r"
     ]
    }
   ],
   "source": [
    "num_samples = len(X_holdout)\n",
    "\n",
    "ad_score_list = []\n",
    "\n",
    "for i, (image, label) in enumerate(zip(X_holdout, y_holdout)):\n",
    "    image_tensor = torch.Tensor(image[None]).cuda(device)   \n",
    "\n",
    "    AD_score, LRP_map = run_LRP(inn_model, image_tensor)\n",
    "    AD_score = AD_score[0][1].detach().cpu().numpy()\n",
    "    LRP_map = LRP_map.detach().numpy().squeeze()\n",
    "    ad_score_list.append(AD_score)\n",
    "    \n",
    "    true_case = \"AD\" if label else \"HC\"\n",
    "    if AD_score.round() and label:\n",
    "        case = \"TP\"\n",
    "    elif AD_score.round() and not label:\n",
    "        case = \"FP\"\n",
    "    elif not AD_score.round() and label:\n",
    "        case = \"FN\"\n",
    "    elif not AD_score.round() and not label:\n",
    "        case = \"TN\"\n",
    "    \n",
    "    mean_maps_LRP[case] += LRP_map\n",
    "    counts[case] += 1\n",
    "    \n",
    "    mean_maps_LRP[true_case] += LRP_map\n",
    "    counts[true_case] += 1\n",
    "    \n",
    "    heatmaps_LRP[case].append((i, LRP_map))\n",
    "    \n",
    "    all_heatmaps_LRP.append((i, LRP_map))\n",
    "    \n",
    "    for name, (min_idx, max_idx) in all_areas.items():\n",
    "        area_mask = area_masks[name]\n",
    "        summed_LRP = (LRP_map * area_mask).sum()\n",
    "        \n",
    "        # Keep index in test set for identification\n",
    "        rs_per_area_LRP[case][name].append((i, summed_LRP))\n",
    "        rs_per_area_LRP[true_case][name].append((i, summed_LRP))\n",
    "        \n",
    "        if i < 1:\n",
    "            area_size = area_mask.sum()\n",
    "            area_sizes.update({name:area_size})\n",
    "    \n",
    "    print(\"Completed {0:3.2f}%  \\r\".format(100*(i+1)/num_samples), end=\"\")\n",
    "        "
   ]
  },
  {
   "cell_type": "code",
   "execution_count": 12,
   "metadata": {},
   "outputs": [
    {
     "data": {
      "text/plain": [
       "{'AD': 0, 'HC': 709, 'TP': 0, 'TN': 395, 'FP': 314, 'FN': 0}"
      ]
     },
     "execution_count": 12,
     "metadata": {},
     "output_type": "execute_result"
    }
   ],
   "source": [
    "counts"
   ]
  },
  {
   "cell_type": "code",
   "execution_count": 13,
   "metadata": {},
   "outputs": [
    {
     "name": "stderr",
     "output_type": "stream",
     "text": [
      "/home/celine/anaconda3/lib/python3.7/site-packages/ipykernel_launcher.py:2: RuntimeWarning: invalid value encountered in true_divide\n",
      "  \n"
     ]
    }
   ],
   "source": [
    "for case in cases:\n",
    "    mean_maps_LRP[case] /= counts[case]\n",
    "    save_nifti(os.path.join(data_path, \"LRP_{case}.nii\".format(case=case)),\n",
    "               mean_maps_LRP[case])\n",
    "    with open(os.path.join(data_path, \"LRP_area_evdcs_{case}.pkl\".format(case=case)), 'wb') as file:\n",
    "        pickle.dump(rs_per_area_LRP[case], file)\n",
    "    with open(os.path.join(data_path, \"LRP_heatmaps_{case}.pkl\".format(case=case)), 'wb') as file:\n",
    "        pickle.dump(heatmaps_LRP[case], file)\n",
    "        \n",
    "with open(os.path.join(data_path, \"LRP_heatmaps_all.pkl\"), 'wb') as file: \n",
    "    pickle.dump(all_heatmaps_LRP, file)\n",
    "\n",
    "with open(os.path.join(data_path, \"area_sizes.pkl\"), 'wb') as file:\n",
    "    pickle.dump(area_sizes, file)\n",
    "\n",
    "np.savetxt(os.path.join(data_path, \"ad_scores.txt\"), ad_score_list)"
   ]
  },
  {
   "cell_type": "markdown",
   "metadata": {},
   "source": [
    "## Plotting individual heatmaps"
   ]
  },
  {
   "cell_type": "code",
   "execution_count": 14,
   "metadata": {},
   "outputs": [],
   "source": [
    "import matplotlib as mpl\n",
    "import matplotlib.pyplot as plt\n",
    "import matplotlib.colors as mcolors\n",
    "from mpl_toolkits.axes_grid1 import make_axes_locatable\n",
    "from copy import deepcopy\n",
    "%matplotlib inline"
   ]
  },
  {
   "cell_type": "code",
   "execution_count": 15,
   "metadata": {},
   "outputs": [],
   "source": [
    "def get_heatmaps(idx):\n",
    "    image_tensor, label = X_holdout[idx], y_holdout[idx]\n",
    "    image_tensor_LRP = torch.Tensor(image_tensor[None]).cuda(device)\n",
    "\n",
    "    print(\"Running LRP\")\n",
    "    AD_score, rel_LRP = run_LRP(inn_model, image_tensor_LRP)\n",
    "    return rel_LRP.detach().numpy().squeeze()"
   ]
  },
  {
   "cell_type": "code",
   "execution_count": 16,
   "metadata": {},
   "outputs": [
    {
     "name": "stdout",
     "output_type": "stream",
     "text": [
      "Running LRP\n"
     ]
    }
   ],
   "source": [
    "patient_idx = np.random.randint(0, len(X_holdout)-1)\n",
    "\n",
    "LRP_map = get_heatmaps(patient_idx)"
   ]
  },
  {
   "cell_type": "code",
   "execution_count": 17,
   "metadata": {},
   "outputs": [
    {
     "name": "stdout",
     "output_type": "stream",
     "text": [
      "0\n"
     ]
    }
   ],
   "source": [
    "print(y_holdout[patient_idx])"
   ]
  },
  {
   "cell_type": "code",
   "execution_count": 18,
   "metadata": {},
   "outputs": [],
   "source": [
    "def plot_idv_brain(heat_map, brain_img, ref_scale, fig=None, ax=None, \n",
    "                  x_idx=slice(0, mri_shape[0]), y_idx=slice(0, mri_shape[1]), z_idx=slice(0, mri_shape[2]),\n",
    "                  vmin=90, vmax=99.9, set_nan=True, cmap=None):\n",
    "\n",
    "    if fig is None or ax is None:\n",
    "        fig, ax = plt.subplots(1, figsize=(12, 12))\n",
    "    \n",
    "    img = deepcopy(heat_map)\n",
    "    if set_nan:\n",
    "        img[nmm_mask==0]=np.nan\n",
    "    if cmap is None:\n",
    "        cmap = mcolors.LinearSegmentedColormap.from_list(name='alphared',\n",
    "                                                  colors=[(1, 0, 0, 0),\n",
    "                                                         \"darkred\", \"red\", \"darkorange\", \"orange\", \"yellow\"],\n",
    "                                                  N=5000)\n",
    "        \n",
    "    if brain_img is not None:\n",
    "        ax.imshow(brain_img[x_idx, y_idx, z_idx].T, cmap=\"Greys\")\n",
    "\n",
    "    vmin_val, vmax_val = np.percentile(ref_scale, vmin), np.percentile(ref_scale, vmax)\n",
    "    im = ax.imshow(img[x_idx, y_idx, z_idx].T, cmap=cmap, \n",
    "               vmin=vmin_val, vmax=vmax_val, interpolation=\"gaussian\")\n",
    "       \n",
    "    ax.axis('off')\n",
    "    plt.gca().invert_yaxis()\n",
    "    \n",
    "    fig.tight_layout()\n",
    "    fig.subplots_adjust(right=0.8)\n",
    "\n",
    "    cbar_ax = fig.add_axes([0.8, 0.15, 0.025, 0.7])\n",
    "    cbar = fig.colorbar(im, shrink=0.5, ticks=[vmin, vmax], cax=cbar_ax)\n",
    "    cbar.set_ticks([vmin_val, vmax_val])\n",
    "    cbar.ax.set_yticklabels(['{0:.1f}%'.format(vmin), '{0:.1f}%'.format(vmax)], fontsize=14)\n",
    "    cbar.set_label('Percentile of  average AD patient values\\n', rotation=270, fontsize=14)\n",
    "    return fig, ax\n"
   ]
  },
  {
   "cell_type": "code",
   "execution_count": 19,
   "metadata": {},
   "outputs": [
    {
     "name": "stderr",
     "output_type": "stream",
     "text": [
      "/home/celine/anaconda3/lib/python3.7/site-packages/numpy/lib/function_base.py:3826: RuntimeWarning: Invalid value encountered in percentile\n",
      "  interpolation=interpolation)\n"
     ]
    },
    {
     "data": {
      "image/png": "[encoded data removed]",
      "text/plain": [
       "<Figure size 864x864 with 2 Axes>"
      ]
     },
     "metadata": {
      "needs_background": "light"
     },
     "output_type": "display_data"
    }
   ],
   "source": [
    "fig, ax = plot_idv_brain(LRP_map, X_holdout[patient_idx].squeeze(),\n",
    "                            ref_scale=mean_maps_LRP[\"AD\"],\n",
    "                            z_idx=90)"
   ]
  },
  {
   "cell_type": "code",
   "execution_count": 24,
   "metadata": {},
   "outputs": [
    {
     "name": "stderr",
     "output_type": "stream",
     "text": [
      "ERROR:root:Invalid alias: The name clear can't be aliased because it is another magic command.\n",
      "ERROR:root:Invalid alias: The name more can't be aliased because it is another magic command.\n",
      "ERROR:root:Invalid alias: The name less can't be aliased because it is another magic command.\n",
      "ERROR:root:Invalid alias: The name man can't be aliased because it is another magic command.\n"
     ]
    }
   ],
   "source": [
    "quit()"
   ]
  },
  {
   "cell_type": "markdown",
   "metadata": {},
   "source": []
  }
 ],
 "metadata": {
  "kernelspec": {
   "display_name": "Python 3",
   "language": "python",
   "name": "python3"
  },
  "language_info": {
   "codemirror_mode": {
    "name": "ipython",
    "version": 3
   },
   "file_extension": ".py",
   "mimetype": "text/x-python",
   "name": "python",
   "nbconvert_exporter": "python",
   "pygments_lexer": "ipython3",
   "version": "3.7.3"
  }
 },
 "nbformat": 4,
 "nbformat_minor": 2
}
